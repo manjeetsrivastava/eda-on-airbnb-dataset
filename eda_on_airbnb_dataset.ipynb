{
  "cells": [
    {
      "cell_type": "markdown",
      "metadata": {
        "id": "view-in-github",
        "colab_type": "text"
      },
      "source": [
        "<a href=\"https://colab.research.google.com/github/manjeetsrivastava/eda-on-airbnb-dataset/blob/main/eda_on_airbnb_dataset.ipynb\" target=\"_parent\"><img src=\"https://colab.research.google.com/assets/colab-badge.svg\" alt=\"Open In Colab\"/></a>"
      ]
    },
    {
      "cell_type": "markdown",
      "id": "cf7a4bf7",
      "metadata": {
        "id": "cf7a4bf7"
      },
      "source": [
        "## AirBnB Assignment \n",
        "\n",
        "---\n",
        "\n"
      ]
    },
    {
      "cell_type": "code",
      "execution_count": 1,
      "id": "3e434aef",
      "metadata": {
        "id": "3e434aef"
      },
      "outputs": [],
      "source": [
        "##Import the libraries\n",
        "import pandas as pd\n",
        "import numpy as np\n",
        "import seaborn as sns"
      ]
    },
    {
      "cell_type": "code",
      "execution_count": 2,
      "id": "c19dfb64",
      "metadata": {
        "id": "c19dfb64"
      },
      "outputs": [],
      "source": [
        "#Load the dataset\n",
        "df = pd.read_csv(\"/content/airbnblistings.csv\")"
      ]
    },
    {
      "cell_type": "code",
      "execution_count": 3,
      "id": "f1435ea0",
      "metadata": {
        "colab": {
          "base_uri": "https://localhost:8080/",
          "height": 542
        },
        "id": "f1435ea0",
        "outputId": "2396c23c-7d92-4acd-f5cd-0bc46faf3240"
      },
      "outputs": [
        {
          "output_type": "execute_result",
          "data": {
            "text/plain": [
              "      id                                               name  host_id  \\\n",
              "0   2818           Quiet Garden View Room & Super Fast WiFi     3159   \n",
              "1  20168       Studio with private bathroom in the centre 1    59484   \n",
              "2  27886  Romantic, stylish B&B houseboat in canal district    97647   \n",
              "3  28871                            Comfortable double room   124245   \n",
              "4  29051                            Comfortable single room   124245   \n",
              "\n",
              "   host_name  host_since_Year                           neighbourhood  \\\n",
              "0     Daniel             2008  Oostelijk Havengebied - Indische Buurt   \n",
              "1  Alexander             2009                            Centrum-Oost   \n",
              "2       Flip             2010                            Centrum-West   \n",
              "3      Edwin             2010                            Centrum-West   \n",
              "4      Edwin             2010                            Centrum-Oost   \n",
              "\n",
              "   latitude  longitude     room_type  price  ...  last_review  \\\n",
              "0  52.36435    4.94358  Private room     49  ...   2022-06-01   \n",
              "1  52.36407    4.89393  Private room    106  ...   2020-04-09   \n",
              "2  52.38761    4.89188  Private room    126  ...   2022-04-24   \n",
              "3  52.36775    4.89092  Private room     75  ...   2022-06-04   \n",
              "4  52.36584    4.89111  Private room     55  ...   2022-06-02   \n",
              "\n",
              "   review_scores_rating review_scores_accuracy  review_scores_cleanliness  \\\n",
              "0                  4.89                   4.93                       5.00   \n",
              "1                  4.44                   4.69                       4.79   \n",
              "2                  4.94                   4.92                       4.95   \n",
              "3                  4.88                   4.95                       4.90   \n",
              "4                  4.79                   4.88                       4.84   \n",
              "\n",
              "   review_scores_checkin  review_scores_communication  review_scores_location  \\\n",
              "0                   4.97                         4.98                    4.69   \n",
              "1                   4.63                         4.62                    4.87   \n",
              "2                   4.95                         4.92                    4.89   \n",
              "3                   4.96                         4.94                    4.97   \n",
              "4                   4.92                         4.91                    4.87   \n",
              "\n",
              "   review_scores_value  accommodates  bedrooms  \n",
              "0                 4.82             2       1.0  \n",
              "1                 4.49             2       1.0  \n",
              "2                 4.79             2       1.0  \n",
              "3                 4.83             2       1.0  \n",
              "4                 4.76             1       1.0  \n",
              "\n",
              "[5 rows x 22 columns]"
            ],
            "text/html": [
              "\n",
              "  <div id=\"df-c2ea3765-b945-4349-b359-daa47f329ccd\">\n",
              "    <div class=\"colab-df-container\">\n",
              "      <div>\n",
              "<style scoped>\n",
              "    .dataframe tbody tr th:only-of-type {\n",
              "        vertical-align: middle;\n",
              "    }\n",
              "\n",
              "    .dataframe tbody tr th {\n",
              "        vertical-align: top;\n",
              "    }\n",
              "\n",
              "    .dataframe thead th {\n",
              "        text-align: right;\n",
              "    }\n",
              "</style>\n",
              "<table border=\"1\" class=\"dataframe\">\n",
              "  <thead>\n",
              "    <tr style=\"text-align: right;\">\n",
              "      <th></th>\n",
              "      <th>id</th>\n",
              "      <th>name</th>\n",
              "      <th>host_id</th>\n",
              "      <th>host_name</th>\n",
              "      <th>host_since_Year</th>\n",
              "      <th>neighbourhood</th>\n",
              "      <th>latitude</th>\n",
              "      <th>longitude</th>\n",
              "      <th>room_type</th>\n",
              "      <th>price</th>\n",
              "      <th>...</th>\n",
              "      <th>last_review</th>\n",
              "      <th>review_scores_rating</th>\n",
              "      <th>review_scores_accuracy</th>\n",
              "      <th>review_scores_cleanliness</th>\n",
              "      <th>review_scores_checkin</th>\n",
              "      <th>review_scores_communication</th>\n",
              "      <th>review_scores_location</th>\n",
              "      <th>review_scores_value</th>\n",
              "      <th>accommodates</th>\n",
              "      <th>bedrooms</th>\n",
              "    </tr>\n",
              "  </thead>\n",
              "  <tbody>\n",
              "    <tr>\n",
              "      <th>0</th>\n",
              "      <td>2818</td>\n",
              "      <td>Quiet Garden View Room &amp; Super Fast WiFi</td>\n",
              "      <td>3159</td>\n",
              "      <td>Daniel</td>\n",
              "      <td>2008</td>\n",
              "      <td>Oostelijk Havengebied - Indische Buurt</td>\n",
              "      <td>52.36435</td>\n",
              "      <td>4.94358</td>\n",
              "      <td>Private room</td>\n",
              "      <td>49</td>\n",
              "      <td>...</td>\n",
              "      <td>2022-06-01</td>\n",
              "      <td>4.89</td>\n",
              "      <td>4.93</td>\n",
              "      <td>5.00</td>\n",
              "      <td>4.97</td>\n",
              "      <td>4.98</td>\n",
              "      <td>4.69</td>\n",
              "      <td>4.82</td>\n",
              "      <td>2</td>\n",
              "      <td>1.0</td>\n",
              "    </tr>\n",
              "    <tr>\n",
              "      <th>1</th>\n",
              "      <td>20168</td>\n",
              "      <td>Studio with private bathroom in the centre 1</td>\n",
              "      <td>59484</td>\n",
              "      <td>Alexander</td>\n",
              "      <td>2009</td>\n",
              "      <td>Centrum-Oost</td>\n",
              "      <td>52.36407</td>\n",
              "      <td>4.89393</td>\n",
              "      <td>Private room</td>\n",
              "      <td>106</td>\n",
              "      <td>...</td>\n",
              "      <td>2020-04-09</td>\n",
              "      <td>4.44</td>\n",
              "      <td>4.69</td>\n",
              "      <td>4.79</td>\n",
              "      <td>4.63</td>\n",
              "      <td>4.62</td>\n",
              "      <td>4.87</td>\n",
              "      <td>4.49</td>\n",
              "      <td>2</td>\n",
              "      <td>1.0</td>\n",
              "    </tr>\n",
              "    <tr>\n",
              "      <th>2</th>\n",
              "      <td>27886</td>\n",
              "      <td>Romantic, stylish B&amp;B houseboat in canal district</td>\n",
              "      <td>97647</td>\n",
              "      <td>Flip</td>\n",
              "      <td>2010</td>\n",
              "      <td>Centrum-West</td>\n",
              "      <td>52.38761</td>\n",
              "      <td>4.89188</td>\n",
              "      <td>Private room</td>\n",
              "      <td>126</td>\n",
              "      <td>...</td>\n",
              "      <td>2022-04-24</td>\n",
              "      <td>4.94</td>\n",
              "      <td>4.92</td>\n",
              "      <td>4.95</td>\n",
              "      <td>4.95</td>\n",
              "      <td>4.92</td>\n",
              "      <td>4.89</td>\n",
              "      <td>4.79</td>\n",
              "      <td>2</td>\n",
              "      <td>1.0</td>\n",
              "    </tr>\n",
              "    <tr>\n",
              "      <th>3</th>\n",
              "      <td>28871</td>\n",
              "      <td>Comfortable double room</td>\n",
              "      <td>124245</td>\n",
              "      <td>Edwin</td>\n",
              "      <td>2010</td>\n",
              "      <td>Centrum-West</td>\n",
              "      <td>52.36775</td>\n",
              "      <td>4.89092</td>\n",
              "      <td>Private room</td>\n",
              "      <td>75</td>\n",
              "      <td>...</td>\n",
              "      <td>2022-06-04</td>\n",
              "      <td>4.88</td>\n",
              "      <td>4.95</td>\n",
              "      <td>4.90</td>\n",
              "      <td>4.96</td>\n",
              "      <td>4.94</td>\n",
              "      <td>4.97</td>\n",
              "      <td>4.83</td>\n",
              "      <td>2</td>\n",
              "      <td>1.0</td>\n",
              "    </tr>\n",
              "    <tr>\n",
              "      <th>4</th>\n",
              "      <td>29051</td>\n",
              "      <td>Comfortable single room</td>\n",
              "      <td>124245</td>\n",
              "      <td>Edwin</td>\n",
              "      <td>2010</td>\n",
              "      <td>Centrum-Oost</td>\n",
              "      <td>52.36584</td>\n",
              "      <td>4.89111</td>\n",
              "      <td>Private room</td>\n",
              "      <td>55</td>\n",
              "      <td>...</td>\n",
              "      <td>2022-06-02</td>\n",
              "      <td>4.79</td>\n",
              "      <td>4.88</td>\n",
              "      <td>4.84</td>\n",
              "      <td>4.92</td>\n",
              "      <td>4.91</td>\n",
              "      <td>4.87</td>\n",
              "      <td>4.76</td>\n",
              "      <td>1</td>\n",
              "      <td>1.0</td>\n",
              "    </tr>\n",
              "  </tbody>\n",
              "</table>\n",
              "<p>5 rows × 22 columns</p>\n",
              "</div>\n",
              "      <button class=\"colab-df-convert\" onclick=\"convertToInteractive('df-c2ea3765-b945-4349-b359-daa47f329ccd')\"\n",
              "              title=\"Convert this dataframe to an interactive table.\"\n",
              "              style=\"display:none;\">\n",
              "        \n",
              "  <svg xmlns=\"http://www.w3.org/2000/svg\" height=\"24px\"viewBox=\"0 0 24 24\"\n",
              "       width=\"24px\">\n",
              "    <path d=\"M0 0h24v24H0V0z\" fill=\"none\"/>\n",
              "    <path d=\"M18.56 5.44l.94 2.06.94-2.06 2.06-.94-2.06-.94-.94-2.06-.94 2.06-2.06.94zm-11 1L8.5 8.5l.94-2.06 2.06-.94-2.06-.94L8.5 2.5l-.94 2.06-2.06.94zm10 10l.94 2.06.94-2.06 2.06-.94-2.06-.94-.94-2.06-.94 2.06-2.06.94z\"/><path d=\"M17.41 7.96l-1.37-1.37c-.4-.4-.92-.59-1.43-.59-.52 0-1.04.2-1.43.59L10.3 9.45l-7.72 7.72c-.78.78-.78 2.05 0 2.83L4 21.41c.39.39.9.59 1.41.59.51 0 1.02-.2 1.41-.59l7.78-7.78 2.81-2.81c.8-.78.8-2.07 0-2.86zM5.41 20L4 18.59l7.72-7.72 1.47 1.35L5.41 20z\"/>\n",
              "  </svg>\n",
              "      </button>\n",
              "      \n",
              "  <style>\n",
              "    .colab-df-container {\n",
              "      display:flex;\n",
              "      flex-wrap:wrap;\n",
              "      gap: 12px;\n",
              "    }\n",
              "\n",
              "    .colab-df-convert {\n",
              "      background-color: #E8F0FE;\n",
              "      border: none;\n",
              "      border-radius: 50%;\n",
              "      cursor: pointer;\n",
              "      display: none;\n",
              "      fill: #1967D2;\n",
              "      height: 32px;\n",
              "      padding: 0 0 0 0;\n",
              "      width: 32px;\n",
              "    }\n",
              "\n",
              "    .colab-df-convert:hover {\n",
              "      background-color: #E2EBFA;\n",
              "      box-shadow: 0px 1px 2px rgba(60, 64, 67, 0.3), 0px 1px 3px 1px rgba(60, 64, 67, 0.15);\n",
              "      fill: #174EA6;\n",
              "    }\n",
              "\n",
              "    [theme=dark] .colab-df-convert {\n",
              "      background-color: #3B4455;\n",
              "      fill: #D2E3FC;\n",
              "    }\n",
              "\n",
              "    [theme=dark] .colab-df-convert:hover {\n",
              "      background-color: #434B5C;\n",
              "      box-shadow: 0px 1px 3px 1px rgba(0, 0, 0, 0.15);\n",
              "      filter: drop-shadow(0px 1px 2px rgba(0, 0, 0, 0.3));\n",
              "      fill: #FFFFFF;\n",
              "    }\n",
              "  </style>\n",
              "\n",
              "      <script>\n",
              "        const buttonEl =\n",
              "          document.querySelector('#df-c2ea3765-b945-4349-b359-daa47f329ccd button.colab-df-convert');\n",
              "        buttonEl.style.display =\n",
              "          google.colab.kernel.accessAllowed ? 'block' : 'none';\n",
              "\n",
              "        async function convertToInteractive(key) {\n",
              "          const element = document.querySelector('#df-c2ea3765-b945-4349-b359-daa47f329ccd');\n",
              "          const dataTable =\n",
              "            await google.colab.kernel.invokeFunction('convertToInteractive',\n",
              "                                                     [key], {});\n",
              "          if (!dataTable) return;\n",
              "\n",
              "          const docLinkHtml = 'Like what you see? Visit the ' +\n",
              "            '<a target=\"_blank\" href=https://colab.research.google.com/notebooks/data_table.ipynb>data table notebook</a>'\n",
              "            + ' to learn more about interactive tables.';\n",
              "          element.innerHTML = '';\n",
              "          dataTable['output_type'] = 'display_data';\n",
              "          await google.colab.output.renderOutput(dataTable, element);\n",
              "          const docLink = document.createElement('div');\n",
              "          docLink.innerHTML = docLinkHtml;\n",
              "          element.appendChild(docLink);\n",
              "        }\n",
              "      </script>\n",
              "    </div>\n",
              "  </div>\n",
              "  "
            ]
          },
          "metadata": {},
          "execution_count": 3
        }
      ],
      "source": [
        "#check the top 5 rows\n",
        "df.head()"
      ]
    },
    {
      "cell_type": "code",
      "source": [
        "df.info()"
      ],
      "metadata": {
        "colab": {
          "base_uri": "https://localhost:8080/"
        },
        "id": "nGz_pOakrb1L",
        "outputId": "35ee0557-617b-4144-e7fc-3925ae53fb4e"
      },
      "id": "nGz_pOakrb1L",
      "execution_count": 4,
      "outputs": [
        {
          "output_type": "stream",
          "name": "stdout",
          "text": [
            "<class 'pandas.core.frame.DataFrame'>\n",
            "RangeIndex: 6173 entries, 0 to 6172\n",
            "Data columns (total 22 columns):\n",
            " #   Column                       Non-Null Count  Dtype  \n",
            "---  ------                       --------------  -----  \n",
            " 0   id                           6173 non-null   int64  \n",
            " 1   name                         6173 non-null   object \n",
            " 2   host_id                      6173 non-null   int64  \n",
            " 3   host_name                    6173 non-null   object \n",
            " 4   host_since_Year              6173 non-null   int64  \n",
            " 5   neighbourhood                6173 non-null   object \n",
            " 6   latitude                     6173 non-null   float64\n",
            " 7   longitude                    6173 non-null   float64\n",
            " 8   room_type                    6173 non-null   object \n",
            " 9   price                        6173 non-null   int64  \n",
            " 10  minimum_nights               6173 non-null   int64  \n",
            " 11  number_of_reviews            6173 non-null   int64  \n",
            " 12  last_review                  5583 non-null   object \n",
            " 13  review_scores_rating         5583 non-null   float64\n",
            " 14  review_scores_accuracy       5575 non-null   float64\n",
            " 15  review_scores_cleanliness    5575 non-null   float64\n",
            " 16  review_scores_checkin        5575 non-null   float64\n",
            " 17  review_scores_communication  5575 non-null   float64\n",
            " 18  review_scores_location       5575 non-null   float64\n",
            " 19  review_scores_value          5575 non-null   float64\n",
            " 20  accommodates                 6173 non-null   int64  \n",
            " 21  bedrooms                     5859 non-null   float64\n",
            "dtypes: float64(10), int64(7), object(5)\n",
            "memory usage: 1.0+ MB\n"
          ]
        }
      ]
    },
    {
      "cell_type": "code",
      "source": [
        "df.describe()\n"
      ],
      "metadata": {
        "colab": {
          "base_uri": "https://localhost:8080/",
          "height": 364
        },
        "id": "l9GBsuEErejW",
        "outputId": "93e9dc45-957a-43a6-f49b-1ffecd22bd48"
      },
      "id": "l9GBsuEErejW",
      "execution_count": 5,
      "outputs": [
        {
          "output_type": "execute_result",
          "data": {
            "text/plain": [
              "                 id       host_id  host_since_Year     latitude    longitude  \\\n",
              "count  6.173000e+03  6.173000e+03      6173.000000  6173.000000  6173.000000   \n",
              "mean   4.426091e+16  9.147516e+07      2015.260975    52.366103     4.892384   \n",
              "std    1.574663e+17  1.208208e+08         2.661278     0.021921     0.041960   \n",
              "min    2.818000e+03  3.159000e+03      2008.000000    52.268010     4.742430   \n",
              "25%    1.289880e+07  9.072052e+06      2013.000000    52.355350     4.867720   \n",
              "50%    2.737940e+07  3.136565e+07      2015.000000    52.366090     4.888583   \n",
              "75%    4.430486e+07  1.303748e+08      2017.000000    52.377210     4.911040   \n",
              "max    6.411318e+17  4.621962e+08      2022.000000    52.442340     5.074204   \n",
              "\n",
              "             price  minimum_nights  number_of_reviews  review_scores_rating  \\\n",
              "count  6173.000000     6173.000000        6173.000000           5583.000000   \n",
              "mean    198.019601        4.497813          50.760408              4.800856   \n",
              "std     140.546979       31.221594          94.366924              0.313015   \n",
              "min       0.000000        1.000000           0.000000              0.000000   \n",
              "25%     115.000000        2.000000           4.000000              4.730000   \n",
              "50%     160.000000        2.000000          17.000000              4.880000   \n",
              "75%     240.000000        3.000000          48.000000              5.000000   \n",
              "max    2500.000000     1001.000000        1110.000000              5.000000   \n",
              "\n",
              "       review_scores_accuracy  review_scores_cleanliness  \\\n",
              "count             5575.000000                5575.000000   \n",
              "mean                 4.840199                   4.752768   \n",
              "std                  0.239041                   0.318851   \n",
              "min                  1.000000                   1.000000   \n",
              "25%                  4.780000                   4.660000   \n",
              "50%                  4.900000                   4.850000   \n",
              "75%                  5.000000                   4.970000   \n",
              "max                  5.000000                   5.000000   \n",
              "\n",
              "       review_scores_checkin  review_scores_communication  \\\n",
              "count            5575.000000                  5575.000000   \n",
              "mean                4.880366                     4.885469   \n",
              "std                 0.218878                     0.232303   \n",
              "min                 1.000000                     1.000000   \n",
              "25%                 4.850000                     4.860000   \n",
              "50%                 4.950000                     4.960000   \n",
              "75%                 5.000000                     5.000000   \n",
              "max                 5.000000                     5.000000   \n",
              "\n",
              "       review_scores_location  review_scores_value  accommodates     bedrooms  \n",
              "count             5575.000000          5575.000000   6173.000000  5859.000000  \n",
              "mean                 4.776165             4.652716      2.994978     1.599420  \n",
              "std                  0.249848             0.289653      1.526226     0.947661  \n",
              "min                  1.000000             1.000000      0.000000     1.000000  \n",
              "25%                  4.670000             4.530000      2.000000     1.000000  \n",
              "50%                  4.830000             4.690000      2.000000     1.000000  \n",
              "75%                  4.970000             4.820000      4.000000     2.000000  \n",
              "max                  5.000000             5.000000     16.000000    15.000000  "
            ],
            "text/html": [
              "\n",
              "  <div id=\"df-51bbfd06-8461-43a2-a95f-bf569a88ba55\">\n",
              "    <div class=\"colab-df-container\">\n",
              "      <div>\n",
              "<style scoped>\n",
              "    .dataframe tbody tr th:only-of-type {\n",
              "        vertical-align: middle;\n",
              "    }\n",
              "\n",
              "    .dataframe tbody tr th {\n",
              "        vertical-align: top;\n",
              "    }\n",
              "\n",
              "    .dataframe thead th {\n",
              "        text-align: right;\n",
              "    }\n",
              "</style>\n",
              "<table border=\"1\" class=\"dataframe\">\n",
              "  <thead>\n",
              "    <tr style=\"text-align: right;\">\n",
              "      <th></th>\n",
              "      <th>id</th>\n",
              "      <th>host_id</th>\n",
              "      <th>host_since_Year</th>\n",
              "      <th>latitude</th>\n",
              "      <th>longitude</th>\n",
              "      <th>price</th>\n",
              "      <th>minimum_nights</th>\n",
              "      <th>number_of_reviews</th>\n",
              "      <th>review_scores_rating</th>\n",
              "      <th>review_scores_accuracy</th>\n",
              "      <th>review_scores_cleanliness</th>\n",
              "      <th>review_scores_checkin</th>\n",
              "      <th>review_scores_communication</th>\n",
              "      <th>review_scores_location</th>\n",
              "      <th>review_scores_value</th>\n",
              "      <th>accommodates</th>\n",
              "      <th>bedrooms</th>\n",
              "    </tr>\n",
              "  </thead>\n",
              "  <tbody>\n",
              "    <tr>\n",
              "      <th>count</th>\n",
              "      <td>6.173000e+03</td>\n",
              "      <td>6.173000e+03</td>\n",
              "      <td>6173.000000</td>\n",
              "      <td>6173.000000</td>\n",
              "      <td>6173.000000</td>\n",
              "      <td>6173.000000</td>\n",
              "      <td>6173.000000</td>\n",
              "      <td>6173.000000</td>\n",
              "      <td>5583.000000</td>\n",
              "      <td>5575.000000</td>\n",
              "      <td>5575.000000</td>\n",
              "      <td>5575.000000</td>\n",
              "      <td>5575.000000</td>\n",
              "      <td>5575.000000</td>\n",
              "      <td>5575.000000</td>\n",
              "      <td>6173.000000</td>\n",
              "      <td>5859.000000</td>\n",
              "    </tr>\n",
              "    <tr>\n",
              "      <th>mean</th>\n",
              "      <td>4.426091e+16</td>\n",
              "      <td>9.147516e+07</td>\n",
              "      <td>2015.260975</td>\n",
              "      <td>52.366103</td>\n",
              "      <td>4.892384</td>\n",
              "      <td>198.019601</td>\n",
              "      <td>4.497813</td>\n",
              "      <td>50.760408</td>\n",
              "      <td>4.800856</td>\n",
              "      <td>4.840199</td>\n",
              "      <td>4.752768</td>\n",
              "      <td>4.880366</td>\n",
              "      <td>4.885469</td>\n",
              "      <td>4.776165</td>\n",
              "      <td>4.652716</td>\n",
              "      <td>2.994978</td>\n",
              "      <td>1.599420</td>\n",
              "    </tr>\n",
              "    <tr>\n",
              "      <th>std</th>\n",
              "      <td>1.574663e+17</td>\n",
              "      <td>1.208208e+08</td>\n",
              "      <td>2.661278</td>\n",
              "      <td>0.021921</td>\n",
              "      <td>0.041960</td>\n",
              "      <td>140.546979</td>\n",
              "      <td>31.221594</td>\n",
              "      <td>94.366924</td>\n",
              "      <td>0.313015</td>\n",
              "      <td>0.239041</td>\n",
              "      <td>0.318851</td>\n",
              "      <td>0.218878</td>\n",
              "      <td>0.232303</td>\n",
              "      <td>0.249848</td>\n",
              "      <td>0.289653</td>\n",
              "      <td>1.526226</td>\n",
              "      <td>0.947661</td>\n",
              "    </tr>\n",
              "    <tr>\n",
              "      <th>min</th>\n",
              "      <td>2.818000e+03</td>\n",
              "      <td>3.159000e+03</td>\n",
              "      <td>2008.000000</td>\n",
              "      <td>52.268010</td>\n",
              "      <td>4.742430</td>\n",
              "      <td>0.000000</td>\n",
              "      <td>1.000000</td>\n",
              "      <td>0.000000</td>\n",
              "      <td>0.000000</td>\n",
              "      <td>1.000000</td>\n",
              "      <td>1.000000</td>\n",
              "      <td>1.000000</td>\n",
              "      <td>1.000000</td>\n",
              "      <td>1.000000</td>\n",
              "      <td>1.000000</td>\n",
              "      <td>0.000000</td>\n",
              "      <td>1.000000</td>\n",
              "    </tr>\n",
              "    <tr>\n",
              "      <th>25%</th>\n",
              "      <td>1.289880e+07</td>\n",
              "      <td>9.072052e+06</td>\n",
              "      <td>2013.000000</td>\n",
              "      <td>52.355350</td>\n",
              "      <td>4.867720</td>\n",
              "      <td>115.000000</td>\n",
              "      <td>2.000000</td>\n",
              "      <td>4.000000</td>\n",
              "      <td>4.730000</td>\n",
              "      <td>4.780000</td>\n",
              "      <td>4.660000</td>\n",
              "      <td>4.850000</td>\n",
              "      <td>4.860000</td>\n",
              "      <td>4.670000</td>\n",
              "      <td>4.530000</td>\n",
              "      <td>2.000000</td>\n",
              "      <td>1.000000</td>\n",
              "    </tr>\n",
              "    <tr>\n",
              "      <th>50%</th>\n",
              "      <td>2.737940e+07</td>\n",
              "      <td>3.136565e+07</td>\n",
              "      <td>2015.000000</td>\n",
              "      <td>52.366090</td>\n",
              "      <td>4.888583</td>\n",
              "      <td>160.000000</td>\n",
              "      <td>2.000000</td>\n",
              "      <td>17.000000</td>\n",
              "      <td>4.880000</td>\n",
              "      <td>4.900000</td>\n",
              "      <td>4.850000</td>\n",
              "      <td>4.950000</td>\n",
              "      <td>4.960000</td>\n",
              "      <td>4.830000</td>\n",
              "      <td>4.690000</td>\n",
              "      <td>2.000000</td>\n",
              "      <td>1.000000</td>\n",
              "    </tr>\n",
              "    <tr>\n",
              "      <th>75%</th>\n",
              "      <td>4.430486e+07</td>\n",
              "      <td>1.303748e+08</td>\n",
              "      <td>2017.000000</td>\n",
              "      <td>52.377210</td>\n",
              "      <td>4.911040</td>\n",
              "      <td>240.000000</td>\n",
              "      <td>3.000000</td>\n",
              "      <td>48.000000</td>\n",
              "      <td>5.000000</td>\n",
              "      <td>5.000000</td>\n",
              "      <td>4.970000</td>\n",
              "      <td>5.000000</td>\n",
              "      <td>5.000000</td>\n",
              "      <td>4.970000</td>\n",
              "      <td>4.820000</td>\n",
              "      <td>4.000000</td>\n",
              "      <td>2.000000</td>\n",
              "    </tr>\n",
              "    <tr>\n",
              "      <th>max</th>\n",
              "      <td>6.411318e+17</td>\n",
              "      <td>4.621962e+08</td>\n",
              "      <td>2022.000000</td>\n",
              "      <td>52.442340</td>\n",
              "      <td>5.074204</td>\n",
              "      <td>2500.000000</td>\n",
              "      <td>1001.000000</td>\n",
              "      <td>1110.000000</td>\n",
              "      <td>5.000000</td>\n",
              "      <td>5.000000</td>\n",
              "      <td>5.000000</td>\n",
              "      <td>5.000000</td>\n",
              "      <td>5.000000</td>\n",
              "      <td>5.000000</td>\n",
              "      <td>5.000000</td>\n",
              "      <td>16.000000</td>\n",
              "      <td>15.000000</td>\n",
              "    </tr>\n",
              "  </tbody>\n",
              "</table>\n",
              "</div>\n",
              "      <button class=\"colab-df-convert\" onclick=\"convertToInteractive('df-51bbfd06-8461-43a2-a95f-bf569a88ba55')\"\n",
              "              title=\"Convert this dataframe to an interactive table.\"\n",
              "              style=\"display:none;\">\n",
              "        \n",
              "  <svg xmlns=\"http://www.w3.org/2000/svg\" height=\"24px\"viewBox=\"0 0 24 24\"\n",
              "       width=\"24px\">\n",
              "    <path d=\"M0 0h24v24H0V0z\" fill=\"none\"/>\n",
              "    <path d=\"M18.56 5.44l.94 2.06.94-2.06 2.06-.94-2.06-.94-.94-2.06-.94 2.06-2.06.94zm-11 1L8.5 8.5l.94-2.06 2.06-.94-2.06-.94L8.5 2.5l-.94 2.06-2.06.94zm10 10l.94 2.06.94-2.06 2.06-.94-2.06-.94-.94-2.06-.94 2.06-2.06.94z\"/><path d=\"M17.41 7.96l-1.37-1.37c-.4-.4-.92-.59-1.43-.59-.52 0-1.04.2-1.43.59L10.3 9.45l-7.72 7.72c-.78.78-.78 2.05 0 2.83L4 21.41c.39.39.9.59 1.41.59.51 0 1.02-.2 1.41-.59l7.78-7.78 2.81-2.81c.8-.78.8-2.07 0-2.86zM5.41 20L4 18.59l7.72-7.72 1.47 1.35L5.41 20z\"/>\n",
              "  </svg>\n",
              "      </button>\n",
              "      \n",
              "  <style>\n",
              "    .colab-df-container {\n",
              "      display:flex;\n",
              "      flex-wrap:wrap;\n",
              "      gap: 12px;\n",
              "    }\n",
              "\n",
              "    .colab-df-convert {\n",
              "      background-color: #E8F0FE;\n",
              "      border: none;\n",
              "      border-radius: 50%;\n",
              "      cursor: pointer;\n",
              "      display: none;\n",
              "      fill: #1967D2;\n",
              "      height: 32px;\n",
              "      padding: 0 0 0 0;\n",
              "      width: 32px;\n",
              "    }\n",
              "\n",
              "    .colab-df-convert:hover {\n",
              "      background-color: #E2EBFA;\n",
              "      box-shadow: 0px 1px 2px rgba(60, 64, 67, 0.3), 0px 1px 3px 1px rgba(60, 64, 67, 0.15);\n",
              "      fill: #174EA6;\n",
              "    }\n",
              "\n",
              "    [theme=dark] .colab-df-convert {\n",
              "      background-color: #3B4455;\n",
              "      fill: #D2E3FC;\n",
              "    }\n",
              "\n",
              "    [theme=dark] .colab-df-convert:hover {\n",
              "      background-color: #434B5C;\n",
              "      box-shadow: 0px 1px 3px 1px rgba(0, 0, 0, 0.15);\n",
              "      filter: drop-shadow(0px 1px 2px rgba(0, 0, 0, 0.3));\n",
              "      fill: #FFFFFF;\n",
              "    }\n",
              "  </style>\n",
              "\n",
              "      <script>\n",
              "        const buttonEl =\n",
              "          document.querySelector('#df-51bbfd06-8461-43a2-a95f-bf569a88ba55 button.colab-df-convert');\n",
              "        buttonEl.style.display =\n",
              "          google.colab.kernel.accessAllowed ? 'block' : 'none';\n",
              "\n",
              "        async function convertToInteractive(key) {\n",
              "          const element = document.querySelector('#df-51bbfd06-8461-43a2-a95f-bf569a88ba55');\n",
              "          const dataTable =\n",
              "            await google.colab.kernel.invokeFunction('convertToInteractive',\n",
              "                                                     [key], {});\n",
              "          if (!dataTable) return;\n",
              "\n",
              "          const docLinkHtml = 'Like what you see? Visit the ' +\n",
              "            '<a target=\"_blank\" href=https://colab.research.google.com/notebooks/data_table.ipynb>data table notebook</a>'\n",
              "            + ' to learn more about interactive tables.';\n",
              "          element.innerHTML = '';\n",
              "          dataTable['output_type'] = 'display_data';\n",
              "          await google.colab.output.renderOutput(dataTable, element);\n",
              "          const docLink = document.createElement('div');\n",
              "          docLink.innerHTML = docLinkHtml;\n",
              "          element.appendChild(docLink);\n",
              "        }\n",
              "      </script>\n",
              "    </div>\n",
              "  </div>\n",
              "  "
            ]
          },
          "metadata": {},
          "execution_count": 5
        }
      ]
    },
    {
      "cell_type": "code",
      "source": [
        "df.isna().sum()"
      ],
      "metadata": {
        "colab": {
          "base_uri": "https://localhost:8080/"
        },
        "id": "qwNVLlUtrh9k",
        "outputId": "aafdc6bd-62ff-41a7-cafb-a77e77ca9fb3"
      },
      "id": "qwNVLlUtrh9k",
      "execution_count": 7,
      "outputs": [
        {
          "output_type": "execute_result",
          "data": {
            "text/plain": [
              "id                               0\n",
              "name                             0\n",
              "host_id                          0\n",
              "host_name                        0\n",
              "host_since_Year                  0\n",
              "neighbourhood                    0\n",
              "latitude                         0\n",
              "longitude                        0\n",
              "room_type                        0\n",
              "price                            0\n",
              "minimum_nights                   0\n",
              "number_of_reviews                0\n",
              "last_review                    590\n",
              "review_scores_rating           590\n",
              "review_scores_accuracy         598\n",
              "review_scores_cleanliness      598\n",
              "review_scores_checkin          598\n",
              "review_scores_communication    598\n",
              "review_scores_location         598\n",
              "review_scores_value            598\n",
              "accommodates                     0\n",
              "bedrooms                       314\n",
              "dtype: int64"
            ]
          },
          "metadata": {},
          "execution_count": 7
        }
      ]
    },
    {
      "cell_type": "code",
      "source": [
        "df.sample(6)"
      ],
      "metadata": {
        "colab": {
          "base_uri": "https://localhost:8080/",
          "height": 626
        },
        "id": "yxpj_B5asUUp",
        "outputId": "ecf73f74-bb90-4f51-fef8-8e9181f214c2"
      },
      "id": "yxpj_B5asUUp",
      "execution_count": 8,
      "outputs": [
        {
          "output_type": "execute_result",
          "data": {
            "text/plain": [
              "            id                                               name    host_id  \\\n",
              "1433  11649293                      Sunny waterfront family house   15050134   \n",
              "5486  52849391  4 bed condo close to Johan Cruijff Arena/Ziggo...  329090026   \n",
              "4358  41676601       Light family home near Amsterdam with garden    4530387   \n",
              "5694  54265741      Luxurious Jacuzzi Center Suite // The Vermeer   28772925   \n",
              "4373  41798620   Modern apartment near City Center - free parking  232077186   \n",
              "4101  39079814                               Da Costa Cosy Corner   66324661   \n",
              "\n",
              "         host_name  host_since_Year             neighbourhood  latitude  \\\n",
              "1433         Katja             2014  IJburg - Zeeburgereiland  52.35092   \n",
              "5486        Daniël             2020           Bijlmer-Centrum  52.32493   \n",
              "4358  Liselot & Al             2012    De Aker - Nieuw Sloten  52.33953   \n",
              "5694           Tim             2015              Centrum-Oost  52.36572   \n",
              "4373        Sander             2018                Noord-Oost  52.39867   \n",
              "4101         Alice             2016    De Baarsjes - Oud-West  52.36631   \n",
              "\n",
              "      longitude        room_type  price  ...  last_review  \\\n",
              "1433    5.00225  Entire home/apt    180  ...   2020-07-18   \n",
              "5486    4.93962  Entire home/apt     94  ...   2022-06-01   \n",
              "4358    4.78392  Entire home/apt    225  ...          NaN   \n",
              "5694    4.88266  Entire home/apt    345  ...   2022-05-19   \n",
              "4373    4.92816  Entire home/apt    150  ...   2022-05-29   \n",
              "4101    4.87491     Private room     80  ...   2022-05-28   \n",
              "\n",
              "      review_scores_rating review_scores_accuracy  review_scores_cleanliness  \\\n",
              "1433                  5.00                   4.93                       5.00   \n",
              "5486                  4.38                   4.48                       3.90   \n",
              "4358                   NaN                    NaN                        NaN   \n",
              "5694                  5.00                   5.00                       5.00   \n",
              "4373                  5.00                   4.00                       5.00   \n",
              "4101                  4.92                   4.92                       4.85   \n",
              "\n",
              "      review_scores_checkin  review_scores_communication  \\\n",
              "1433                   4.79                         4.86   \n",
              "5486                   4.43                         4.76   \n",
              "4358                    NaN                          NaN   \n",
              "5694                   4.82                         4.91   \n",
              "4373                   5.00                         5.00   \n",
              "4101                   4.97                         4.96   \n",
              "\n",
              "      review_scores_location  review_scores_value  accommodates  bedrooms  \n",
              "1433                    4.86                 4.86             4       3.0  \n",
              "5486                    4.52                 4.29             4       2.0  \n",
              "4358                     NaN                  NaN             5       3.0  \n",
              "5694                    5.00                 4.73             2       1.0  \n",
              "4373                    4.00                 5.00             3       2.0  \n",
              "4101                    4.92                 4.78             2       1.0  \n",
              "\n",
              "[6 rows x 22 columns]"
            ],
            "text/html": [
              "\n",
              "  <div id=\"df-40f4d543-f69d-48a7-979f-047420fb0c7e\">\n",
              "    <div class=\"colab-df-container\">\n",
              "      <div>\n",
              "<style scoped>\n",
              "    .dataframe tbody tr th:only-of-type {\n",
              "        vertical-align: middle;\n",
              "    }\n",
              "\n",
              "    .dataframe tbody tr th {\n",
              "        vertical-align: top;\n",
              "    }\n",
              "\n",
              "    .dataframe thead th {\n",
              "        text-align: right;\n",
              "    }\n",
              "</style>\n",
              "<table border=\"1\" class=\"dataframe\">\n",
              "  <thead>\n",
              "    <tr style=\"text-align: right;\">\n",
              "      <th></th>\n",
              "      <th>id</th>\n",
              "      <th>name</th>\n",
              "      <th>host_id</th>\n",
              "      <th>host_name</th>\n",
              "      <th>host_since_Year</th>\n",
              "      <th>neighbourhood</th>\n",
              "      <th>latitude</th>\n",
              "      <th>longitude</th>\n",
              "      <th>room_type</th>\n",
              "      <th>price</th>\n",
              "      <th>...</th>\n",
              "      <th>last_review</th>\n",
              "      <th>review_scores_rating</th>\n",
              "      <th>review_scores_accuracy</th>\n",
              "      <th>review_scores_cleanliness</th>\n",
              "      <th>review_scores_checkin</th>\n",
              "      <th>review_scores_communication</th>\n",
              "      <th>review_scores_location</th>\n",
              "      <th>review_scores_value</th>\n",
              "      <th>accommodates</th>\n",
              "      <th>bedrooms</th>\n",
              "    </tr>\n",
              "  </thead>\n",
              "  <tbody>\n",
              "    <tr>\n",
              "      <th>1433</th>\n",
              "      <td>11649293</td>\n",
              "      <td>Sunny waterfront family house</td>\n",
              "      <td>15050134</td>\n",
              "      <td>Katja</td>\n",
              "      <td>2014</td>\n",
              "      <td>IJburg - Zeeburgereiland</td>\n",
              "      <td>52.35092</td>\n",
              "      <td>5.00225</td>\n",
              "      <td>Entire home/apt</td>\n",
              "      <td>180</td>\n",
              "      <td>...</td>\n",
              "      <td>2020-07-18</td>\n",
              "      <td>5.00</td>\n",
              "      <td>4.93</td>\n",
              "      <td>5.00</td>\n",
              "      <td>4.79</td>\n",
              "      <td>4.86</td>\n",
              "      <td>4.86</td>\n",
              "      <td>4.86</td>\n",
              "      <td>4</td>\n",
              "      <td>3.0</td>\n",
              "    </tr>\n",
              "    <tr>\n",
              "      <th>5486</th>\n",
              "      <td>52849391</td>\n",
              "      <td>4 bed condo close to Johan Cruijff Arena/Ziggo...</td>\n",
              "      <td>329090026</td>\n",
              "      <td>Daniël</td>\n",
              "      <td>2020</td>\n",
              "      <td>Bijlmer-Centrum</td>\n",
              "      <td>52.32493</td>\n",
              "      <td>4.93962</td>\n",
              "      <td>Entire home/apt</td>\n",
              "      <td>94</td>\n",
              "      <td>...</td>\n",
              "      <td>2022-06-01</td>\n",
              "      <td>4.38</td>\n",
              "      <td>4.48</td>\n",
              "      <td>3.90</td>\n",
              "      <td>4.43</td>\n",
              "      <td>4.76</td>\n",
              "      <td>4.52</td>\n",
              "      <td>4.29</td>\n",
              "      <td>4</td>\n",
              "      <td>2.0</td>\n",
              "    </tr>\n",
              "    <tr>\n",
              "      <th>4358</th>\n",
              "      <td>41676601</td>\n",
              "      <td>Light family home near Amsterdam with garden</td>\n",
              "      <td>4530387</td>\n",
              "      <td>Liselot &amp; Al</td>\n",
              "      <td>2012</td>\n",
              "      <td>De Aker - Nieuw Sloten</td>\n",
              "      <td>52.33953</td>\n",
              "      <td>4.78392</td>\n",
              "      <td>Entire home/apt</td>\n",
              "      <td>225</td>\n",
              "      <td>...</td>\n",
              "      <td>NaN</td>\n",
              "      <td>NaN</td>\n",
              "      <td>NaN</td>\n",
              "      <td>NaN</td>\n",
              "      <td>NaN</td>\n",
              "      <td>NaN</td>\n",
              "      <td>NaN</td>\n",
              "      <td>NaN</td>\n",
              "      <td>5</td>\n",
              "      <td>3.0</td>\n",
              "    </tr>\n",
              "    <tr>\n",
              "      <th>5694</th>\n",
              "      <td>54265741</td>\n",
              "      <td>Luxurious Jacuzzi Center Suite // The Vermeer</td>\n",
              "      <td>28772925</td>\n",
              "      <td>Tim</td>\n",
              "      <td>2015</td>\n",
              "      <td>Centrum-Oost</td>\n",
              "      <td>52.36572</td>\n",
              "      <td>4.88266</td>\n",
              "      <td>Entire home/apt</td>\n",
              "      <td>345</td>\n",
              "      <td>...</td>\n",
              "      <td>2022-05-19</td>\n",
              "      <td>5.00</td>\n",
              "      <td>5.00</td>\n",
              "      <td>5.00</td>\n",
              "      <td>4.82</td>\n",
              "      <td>4.91</td>\n",
              "      <td>5.00</td>\n",
              "      <td>4.73</td>\n",
              "      <td>2</td>\n",
              "      <td>1.0</td>\n",
              "    </tr>\n",
              "    <tr>\n",
              "      <th>4373</th>\n",
              "      <td>41798620</td>\n",
              "      <td>Modern apartment near City Center - free parking</td>\n",
              "      <td>232077186</td>\n",
              "      <td>Sander</td>\n",
              "      <td>2018</td>\n",
              "      <td>Noord-Oost</td>\n",
              "      <td>52.39867</td>\n",
              "      <td>4.92816</td>\n",
              "      <td>Entire home/apt</td>\n",
              "      <td>150</td>\n",
              "      <td>...</td>\n",
              "      <td>2022-05-29</td>\n",
              "      <td>5.00</td>\n",
              "      <td>4.00</td>\n",
              "      <td>5.00</td>\n",
              "      <td>5.00</td>\n",
              "      <td>5.00</td>\n",
              "      <td>4.00</td>\n",
              "      <td>5.00</td>\n",
              "      <td>3</td>\n",
              "      <td>2.0</td>\n",
              "    </tr>\n",
              "    <tr>\n",
              "      <th>4101</th>\n",
              "      <td>39079814</td>\n",
              "      <td>Da Costa Cosy Corner</td>\n",
              "      <td>66324661</td>\n",
              "      <td>Alice</td>\n",
              "      <td>2016</td>\n",
              "      <td>De Baarsjes - Oud-West</td>\n",
              "      <td>52.36631</td>\n",
              "      <td>4.87491</td>\n",
              "      <td>Private room</td>\n",
              "      <td>80</td>\n",
              "      <td>...</td>\n",
              "      <td>2022-05-28</td>\n",
              "      <td>4.92</td>\n",
              "      <td>4.92</td>\n",
              "      <td>4.85</td>\n",
              "      <td>4.97</td>\n",
              "      <td>4.96</td>\n",
              "      <td>4.92</td>\n",
              "      <td>4.78</td>\n",
              "      <td>2</td>\n",
              "      <td>1.0</td>\n",
              "    </tr>\n",
              "  </tbody>\n",
              "</table>\n",
              "<p>6 rows × 22 columns</p>\n",
              "</div>\n",
              "      <button class=\"colab-df-convert\" onclick=\"convertToInteractive('df-40f4d543-f69d-48a7-979f-047420fb0c7e')\"\n",
              "              title=\"Convert this dataframe to an interactive table.\"\n",
              "              style=\"display:none;\">\n",
              "        \n",
              "  <svg xmlns=\"http://www.w3.org/2000/svg\" height=\"24px\"viewBox=\"0 0 24 24\"\n",
              "       width=\"24px\">\n",
              "    <path d=\"M0 0h24v24H0V0z\" fill=\"none\"/>\n",
              "    <path d=\"M18.56 5.44l.94 2.06.94-2.06 2.06-.94-2.06-.94-.94-2.06-.94 2.06-2.06.94zm-11 1L8.5 8.5l.94-2.06 2.06-.94-2.06-.94L8.5 2.5l-.94 2.06-2.06.94zm10 10l.94 2.06.94-2.06 2.06-.94-2.06-.94-.94-2.06-.94 2.06-2.06.94z\"/><path d=\"M17.41 7.96l-1.37-1.37c-.4-.4-.92-.59-1.43-.59-.52 0-1.04.2-1.43.59L10.3 9.45l-7.72 7.72c-.78.78-.78 2.05 0 2.83L4 21.41c.39.39.9.59 1.41.59.51 0 1.02-.2 1.41-.59l7.78-7.78 2.81-2.81c.8-.78.8-2.07 0-2.86zM5.41 20L4 18.59l7.72-7.72 1.47 1.35L5.41 20z\"/>\n",
              "  </svg>\n",
              "      </button>\n",
              "      \n",
              "  <style>\n",
              "    .colab-df-container {\n",
              "      display:flex;\n",
              "      flex-wrap:wrap;\n",
              "      gap: 12px;\n",
              "    }\n",
              "\n",
              "    .colab-df-convert {\n",
              "      background-color: #E8F0FE;\n",
              "      border: none;\n",
              "      border-radius: 50%;\n",
              "      cursor: pointer;\n",
              "      display: none;\n",
              "      fill: #1967D2;\n",
              "      height: 32px;\n",
              "      padding: 0 0 0 0;\n",
              "      width: 32px;\n",
              "    }\n",
              "\n",
              "    .colab-df-convert:hover {\n",
              "      background-color: #E2EBFA;\n",
              "      box-shadow: 0px 1px 2px rgba(60, 64, 67, 0.3), 0px 1px 3px 1px rgba(60, 64, 67, 0.15);\n",
              "      fill: #174EA6;\n",
              "    }\n",
              "\n",
              "    [theme=dark] .colab-df-convert {\n",
              "      background-color: #3B4455;\n",
              "      fill: #D2E3FC;\n",
              "    }\n",
              "\n",
              "    [theme=dark] .colab-df-convert:hover {\n",
              "      background-color: #434B5C;\n",
              "      box-shadow: 0px 1px 3px 1px rgba(0, 0, 0, 0.15);\n",
              "      filter: drop-shadow(0px 1px 2px rgba(0, 0, 0, 0.3));\n",
              "      fill: #FFFFFF;\n",
              "    }\n",
              "  </style>\n",
              "\n",
              "      <script>\n",
              "        const buttonEl =\n",
              "          document.querySelector('#df-40f4d543-f69d-48a7-979f-047420fb0c7e button.colab-df-convert');\n",
              "        buttonEl.style.display =\n",
              "          google.colab.kernel.accessAllowed ? 'block' : 'none';\n",
              "\n",
              "        async function convertToInteractive(key) {\n",
              "          const element = document.querySelector('#df-40f4d543-f69d-48a7-979f-047420fb0c7e');\n",
              "          const dataTable =\n",
              "            await google.colab.kernel.invokeFunction('convertToInteractive',\n",
              "                                                     [key], {});\n",
              "          if (!dataTable) return;\n",
              "\n",
              "          const docLinkHtml = 'Like what you see? Visit the ' +\n",
              "            '<a target=\"_blank\" href=https://colab.research.google.com/notebooks/data_table.ipynb>data table notebook</a>'\n",
              "            + ' to learn more about interactive tables.';\n",
              "          element.innerHTML = '';\n",
              "          dataTable['output_type'] = 'display_data';\n",
              "          await google.colab.output.renderOutput(dataTable, element);\n",
              "          const docLink = document.createElement('div');\n",
              "          docLink.innerHTML = docLinkHtml;\n",
              "          element.appendChild(docLink);\n",
              "        }\n",
              "      </script>\n",
              "    </div>\n",
              "  </div>\n",
              "  "
            ]
          },
          "metadata": {},
          "execution_count": 8
        }
      ]
    },
    {
      "cell_type": "code",
      "source": [
        "df.tail(5)"
      ],
      "metadata": {
        "colab": {
          "base_uri": "https://localhost:8080/",
          "height": 594
        },
        "id": "lBayXh3ksYiS",
        "outputId": "28aff515-e3e2-4b83-a2e0-e611808495a7"
      },
      "id": "lBayXh3ksYiS",
      "execution_count": 9,
      "outputs": [
        {
          "output_type": "execute_result",
          "data": {
            "text/plain": [
              "                      id                                               name  \\\n",
              "6168  640454062441222339                                       Villa Newbia   \n",
              "6169  640513271677293480  Central | Clean | Cozy APT & Roof Terrace @ De...   \n",
              "6170  640524575959045684   Central | Bright | Clean Studio w WiFi @ De Pijp   \n",
              "6171  641058574307869532                     City centrum private studio 14   \n",
              "6172  641131762118036107               Lovely one bedroom in Amsterdam Zuid   \n",
              "\n",
              "        host_id host_name  host_since_Year            neighbourhood  \\\n",
              "6168  462196214  Jennifer             2022             Centrum-Oost   \n",
              "6169   49154714    Reiner             2015  De Pijp - Rivierenbuurt   \n",
              "6170   49154714    Reiner             2015  De Pijp - Rivierenbuurt   \n",
              "6171  449825081     Dario             2022             Centrum-West   \n",
              "6172    9435259   Thierry             2013                     Zuid   \n",
              "\n",
              "       latitude  longitude        room_type  price  ...  last_review  \\\n",
              "6168  52.368625   4.908474  Entire home/apt    610  ...          NaN   \n",
              "6169  52.357466   4.897642  Entire home/apt    109  ...          NaN   \n",
              "6170  52.354610   4.888740  Entire home/apt    109  ...          NaN   \n",
              "6171  52.376636   4.895509  Entire home/apt     94  ...          NaN   \n",
              "6172  52.343521   4.861253     Private room     85  ...          NaN   \n",
              "\n",
              "      review_scores_rating review_scores_accuracy  review_scores_cleanliness  \\\n",
              "6168                   NaN                    NaN                        NaN   \n",
              "6169                   NaN                    NaN                        NaN   \n",
              "6170                   NaN                    NaN                        NaN   \n",
              "6171                   NaN                    NaN                        NaN   \n",
              "6172                   NaN                    NaN                        NaN   \n",
              "\n",
              "      review_scores_checkin  review_scores_communication  \\\n",
              "6168                    NaN                          NaN   \n",
              "6169                    NaN                          NaN   \n",
              "6170                    NaN                          NaN   \n",
              "6171                    NaN                          NaN   \n",
              "6172                    NaN                          NaN   \n",
              "\n",
              "      review_scores_location  review_scores_value  accommodates  bedrooms  \n",
              "6168                     NaN                  NaN            12       6.0  \n",
              "6169                     NaN                  NaN             2       1.0  \n",
              "6170                     NaN                  NaN             2       1.0  \n",
              "6171                     NaN                  NaN             2       NaN  \n",
              "6172                     NaN                  NaN             1       1.0  \n",
              "\n",
              "[5 rows x 22 columns]"
            ],
            "text/html": [
              "\n",
              "  <div id=\"df-ca39b29f-48bc-490b-af7d-3cde1c6b7df9\">\n",
              "    <div class=\"colab-df-container\">\n",
              "      <div>\n",
              "<style scoped>\n",
              "    .dataframe tbody tr th:only-of-type {\n",
              "        vertical-align: middle;\n",
              "    }\n",
              "\n",
              "    .dataframe tbody tr th {\n",
              "        vertical-align: top;\n",
              "    }\n",
              "\n",
              "    .dataframe thead th {\n",
              "        text-align: right;\n",
              "    }\n",
              "</style>\n",
              "<table border=\"1\" class=\"dataframe\">\n",
              "  <thead>\n",
              "    <tr style=\"text-align: right;\">\n",
              "      <th></th>\n",
              "      <th>id</th>\n",
              "      <th>name</th>\n",
              "      <th>host_id</th>\n",
              "      <th>host_name</th>\n",
              "      <th>host_since_Year</th>\n",
              "      <th>neighbourhood</th>\n",
              "      <th>latitude</th>\n",
              "      <th>longitude</th>\n",
              "      <th>room_type</th>\n",
              "      <th>price</th>\n",
              "      <th>...</th>\n",
              "      <th>last_review</th>\n",
              "      <th>review_scores_rating</th>\n",
              "      <th>review_scores_accuracy</th>\n",
              "      <th>review_scores_cleanliness</th>\n",
              "      <th>review_scores_checkin</th>\n",
              "      <th>review_scores_communication</th>\n",
              "      <th>review_scores_location</th>\n",
              "      <th>review_scores_value</th>\n",
              "      <th>accommodates</th>\n",
              "      <th>bedrooms</th>\n",
              "    </tr>\n",
              "  </thead>\n",
              "  <tbody>\n",
              "    <tr>\n",
              "      <th>6168</th>\n",
              "      <td>640454062441222339</td>\n",
              "      <td>Villa Newbia</td>\n",
              "      <td>462196214</td>\n",
              "      <td>Jennifer</td>\n",
              "      <td>2022</td>\n",
              "      <td>Centrum-Oost</td>\n",
              "      <td>52.368625</td>\n",
              "      <td>4.908474</td>\n",
              "      <td>Entire home/apt</td>\n",
              "      <td>610</td>\n",
              "      <td>...</td>\n",
              "      <td>NaN</td>\n",
              "      <td>NaN</td>\n",
              "      <td>NaN</td>\n",
              "      <td>NaN</td>\n",
              "      <td>NaN</td>\n",
              "      <td>NaN</td>\n",
              "      <td>NaN</td>\n",
              "      <td>NaN</td>\n",
              "      <td>12</td>\n",
              "      <td>6.0</td>\n",
              "    </tr>\n",
              "    <tr>\n",
              "      <th>6169</th>\n",
              "      <td>640513271677293480</td>\n",
              "      <td>Central | Clean | Cozy APT &amp; Roof Terrace @ De...</td>\n",
              "      <td>49154714</td>\n",
              "      <td>Reiner</td>\n",
              "      <td>2015</td>\n",
              "      <td>De Pijp - Rivierenbuurt</td>\n",
              "      <td>52.357466</td>\n",
              "      <td>4.897642</td>\n",
              "      <td>Entire home/apt</td>\n",
              "      <td>109</td>\n",
              "      <td>...</td>\n",
              "      <td>NaN</td>\n",
              "      <td>NaN</td>\n",
              "      <td>NaN</td>\n",
              "      <td>NaN</td>\n",
              "      <td>NaN</td>\n",
              "      <td>NaN</td>\n",
              "      <td>NaN</td>\n",
              "      <td>NaN</td>\n",
              "      <td>2</td>\n",
              "      <td>1.0</td>\n",
              "    </tr>\n",
              "    <tr>\n",
              "      <th>6170</th>\n",
              "      <td>640524575959045684</td>\n",
              "      <td>Central | Bright | Clean Studio w WiFi @ De Pijp</td>\n",
              "      <td>49154714</td>\n",
              "      <td>Reiner</td>\n",
              "      <td>2015</td>\n",
              "      <td>De Pijp - Rivierenbuurt</td>\n",
              "      <td>52.354610</td>\n",
              "      <td>4.888740</td>\n",
              "      <td>Entire home/apt</td>\n",
              "      <td>109</td>\n",
              "      <td>...</td>\n",
              "      <td>NaN</td>\n",
              "      <td>NaN</td>\n",
              "      <td>NaN</td>\n",
              "      <td>NaN</td>\n",
              "      <td>NaN</td>\n",
              "      <td>NaN</td>\n",
              "      <td>NaN</td>\n",
              "      <td>NaN</td>\n",
              "      <td>2</td>\n",
              "      <td>1.0</td>\n",
              "    </tr>\n",
              "    <tr>\n",
              "      <th>6171</th>\n",
              "      <td>641058574307869532</td>\n",
              "      <td>City centrum private studio 14</td>\n",
              "      <td>449825081</td>\n",
              "      <td>Dario</td>\n",
              "      <td>2022</td>\n",
              "      <td>Centrum-West</td>\n",
              "      <td>52.376636</td>\n",
              "      <td>4.895509</td>\n",
              "      <td>Entire home/apt</td>\n",
              "      <td>94</td>\n",
              "      <td>...</td>\n",
              "      <td>NaN</td>\n",
              "      <td>NaN</td>\n",
              "      <td>NaN</td>\n",
              "      <td>NaN</td>\n",
              "      <td>NaN</td>\n",
              "      <td>NaN</td>\n",
              "      <td>NaN</td>\n",
              "      <td>NaN</td>\n",
              "      <td>2</td>\n",
              "      <td>NaN</td>\n",
              "    </tr>\n",
              "    <tr>\n",
              "      <th>6172</th>\n",
              "      <td>641131762118036107</td>\n",
              "      <td>Lovely one bedroom in Amsterdam Zuid</td>\n",
              "      <td>9435259</td>\n",
              "      <td>Thierry</td>\n",
              "      <td>2013</td>\n",
              "      <td>Zuid</td>\n",
              "      <td>52.343521</td>\n",
              "      <td>4.861253</td>\n",
              "      <td>Private room</td>\n",
              "      <td>85</td>\n",
              "      <td>...</td>\n",
              "      <td>NaN</td>\n",
              "      <td>NaN</td>\n",
              "      <td>NaN</td>\n",
              "      <td>NaN</td>\n",
              "      <td>NaN</td>\n",
              "      <td>NaN</td>\n",
              "      <td>NaN</td>\n",
              "      <td>NaN</td>\n",
              "      <td>1</td>\n",
              "      <td>1.0</td>\n",
              "    </tr>\n",
              "  </tbody>\n",
              "</table>\n",
              "<p>5 rows × 22 columns</p>\n",
              "</div>\n",
              "      <button class=\"colab-df-convert\" onclick=\"convertToInteractive('df-ca39b29f-48bc-490b-af7d-3cde1c6b7df9')\"\n",
              "              title=\"Convert this dataframe to an interactive table.\"\n",
              "              style=\"display:none;\">\n",
              "        \n",
              "  <svg xmlns=\"http://www.w3.org/2000/svg\" height=\"24px\"viewBox=\"0 0 24 24\"\n",
              "       width=\"24px\">\n",
              "    <path d=\"M0 0h24v24H0V0z\" fill=\"none\"/>\n",
              "    <path d=\"M18.56 5.44l.94 2.06.94-2.06 2.06-.94-2.06-.94-.94-2.06-.94 2.06-2.06.94zm-11 1L8.5 8.5l.94-2.06 2.06-.94-2.06-.94L8.5 2.5l-.94 2.06-2.06.94zm10 10l.94 2.06.94-2.06 2.06-.94-2.06-.94-.94-2.06-.94 2.06-2.06.94z\"/><path d=\"M17.41 7.96l-1.37-1.37c-.4-.4-.92-.59-1.43-.59-.52 0-1.04.2-1.43.59L10.3 9.45l-7.72 7.72c-.78.78-.78 2.05 0 2.83L4 21.41c.39.39.9.59 1.41.59.51 0 1.02-.2 1.41-.59l7.78-7.78 2.81-2.81c.8-.78.8-2.07 0-2.86zM5.41 20L4 18.59l7.72-7.72 1.47 1.35L5.41 20z\"/>\n",
              "  </svg>\n",
              "      </button>\n",
              "      \n",
              "  <style>\n",
              "    .colab-df-container {\n",
              "      display:flex;\n",
              "      flex-wrap:wrap;\n",
              "      gap: 12px;\n",
              "    }\n",
              "\n",
              "    .colab-df-convert {\n",
              "      background-color: #E8F0FE;\n",
              "      border: none;\n",
              "      border-radius: 50%;\n",
              "      cursor: pointer;\n",
              "      display: none;\n",
              "      fill: #1967D2;\n",
              "      height: 32px;\n",
              "      padding: 0 0 0 0;\n",
              "      width: 32px;\n",
              "    }\n",
              "\n",
              "    .colab-df-convert:hover {\n",
              "      background-color: #E2EBFA;\n",
              "      box-shadow: 0px 1px 2px rgba(60, 64, 67, 0.3), 0px 1px 3px 1px rgba(60, 64, 67, 0.15);\n",
              "      fill: #174EA6;\n",
              "    }\n",
              "\n",
              "    [theme=dark] .colab-df-convert {\n",
              "      background-color: #3B4455;\n",
              "      fill: #D2E3FC;\n",
              "    }\n",
              "\n",
              "    [theme=dark] .colab-df-convert:hover {\n",
              "      background-color: #434B5C;\n",
              "      box-shadow: 0px 1px 3px 1px rgba(0, 0, 0, 0.15);\n",
              "      filter: drop-shadow(0px 1px 2px rgba(0, 0, 0, 0.3));\n",
              "      fill: #FFFFFF;\n",
              "    }\n",
              "  </style>\n",
              "\n",
              "      <script>\n",
              "        const buttonEl =\n",
              "          document.querySelector('#df-ca39b29f-48bc-490b-af7d-3cde1c6b7df9 button.colab-df-convert');\n",
              "        buttonEl.style.display =\n",
              "          google.colab.kernel.accessAllowed ? 'block' : 'none';\n",
              "\n",
              "        async function convertToInteractive(key) {\n",
              "          const element = document.querySelector('#df-ca39b29f-48bc-490b-af7d-3cde1c6b7df9');\n",
              "          const dataTable =\n",
              "            await google.colab.kernel.invokeFunction('convertToInteractive',\n",
              "                                                     [key], {});\n",
              "          if (!dataTable) return;\n",
              "\n",
              "          const docLinkHtml = 'Like what you see? Visit the ' +\n",
              "            '<a target=\"_blank\" href=https://colab.research.google.com/notebooks/data_table.ipynb>data table notebook</a>'\n",
              "            + ' to learn more about interactive tables.';\n",
              "          element.innerHTML = '';\n",
              "          dataTable['output_type'] = 'display_data';\n",
              "          await google.colab.output.renderOutput(dataTable, element);\n",
              "          const docLink = document.createElement('div');\n",
              "          docLink.innerHTML = docLinkHtml;\n",
              "          element.appendChild(docLink);\n",
              "        }\n",
              "      </script>\n",
              "    </div>\n",
              "  </div>\n",
              "  "
            ]
          },
          "metadata": {},
          "execution_count": 9
        }
      ]
    },
    {
      "cell_type": "markdown",
      "id": "11dd35fa",
      "metadata": {
        "id": "11dd35fa"
      },
      "source": [
        "### Task 1 \n",
        "Basic Descriptive Statistics \n",
        "- 1.1 How many AirBnB listings are there in the city of Amsterdam?"
      ]
    },
    {
      "cell_type": "code",
      "execution_count": null,
      "id": "b2ccf28d",
      "metadata": {
        "scrolled": true,
        "colab": {
          "base_uri": "https://localhost:8080/"
        },
        "id": "b2ccf28d",
        "outputId": "79725251-b849-4ab7-a8e1-802de06fffe9"
      },
      "outputs": [
        {
          "output_type": "execute_result",
          "data": {
            "text/plain": [
              "6173"
            ]
          },
          "metadata": {},
          "execution_count": 7
        }
      ],
      "source": [
        "##Write your code here\n",
        "df['name'].count()"
      ]
    },
    {
      "cell_type": "markdown",
      "id": "4acbbcf6",
      "metadata": {
        "id": "4acbbcf6"
      },
      "source": [
        "**Answer**: **THERE ARE TOTAL OF 6173 AIRBNB LISTINGS IN THE CITY OF AMSTERDAM.**"
      ]
    },
    {
      "cell_type": "markdown",
      "id": "037b4a82",
      "metadata": {
        "id": "037b4a82"
      },
      "source": [
        "- 1.2 What is the average price of all the AirBnB listings in Amsterdam?"
      ]
    },
    {
      "cell_type": "code",
      "execution_count": null,
      "id": "2a99384f",
      "metadata": {
        "colab": {
          "base_uri": "https://localhost:8080/"
        },
        "id": "2a99384f",
        "outputId": "9c463361-7328-4bc5-8a00-284527aeb919"
      },
      "outputs": [
        {
          "output_type": "execute_result",
          "data": {
            "text/plain": [
              "198.02"
            ]
          },
          "metadata": {},
          "execution_count": 8
        }
      ],
      "source": [
        "##Write your code here\n",
        "round(df['price'].mean(),2)"
      ]
    },
    {
      "cell_type": "markdown",
      "id": "8bf1e01b",
      "metadata": {
        "id": "8bf1e01b"
      },
      "source": [
        "**Answer**: **The average price of all Airbnb listings in Amsterdam is : 198.02(round off)**"
      ]
    },
    {
      "cell_type": "markdown",
      "id": "d17b9988",
      "metadata": {
        "id": "d17b9988"
      },
      "source": [
        "- 1.3 - What is the average rating received by all the AirBnB listings in Amsterdam? *Hint* - Use the `review_scores_rating` column for answering this question"
      ]
    },
    {
      "cell_type": "code",
      "execution_count": null,
      "id": "0f460de5",
      "metadata": {
        "colab": {
          "base_uri": "https://localhost:8080/"
        },
        "id": "0f460de5",
        "outputId": "52269b55-ceba-46ce-f1ee-6be1cdb0002b"
      },
      "outputs": [
        {
          "output_type": "execute_result",
          "data": {
            "text/plain": [
              "4.8"
            ]
          },
          "metadata": {},
          "execution_count": 9
        }
      ],
      "source": [
        "##Write your code here\n",
        "round(df['review_scores_rating'].mean(),2)\n"
      ]
    },
    {
      "cell_type": "markdown",
      "id": "c65215bc",
      "metadata": {
        "id": "c65215bc"
      },
      "source": [
        "**Answer**: **The average rating received by all the AirBnb listing in Amsterdam is : 4.8(round off)**"
      ]
    },
    {
      "cell_type": "markdown",
      "id": "c94db5d3",
      "metadata": {
        "id": "c94db5d3"
      },
      "source": [
        "### Task 2\n",
        "\n",
        "Plot a histogram for the following variables and observe their distribution. Choose the parameters like bin width, number of bins, etc. as per your choice.\n",
        "\n",
        "- `price`\n",
        "- `number_of_reviews`\n",
        "- `review_scores_rating`"
      ]
    },
    {
      "cell_type": "code",
      "execution_count": 12,
      "id": "7abd62fa",
      "metadata": {
        "scrolled": true,
        "colab": {
          "base_uri": "https://localhost:8080/",
          "height": 296
        },
        "id": "7abd62fa",
        "outputId": "ba08f174-b211-4dd6-a64e-9ec06b4ec002"
      },
      "outputs": [
        {
          "output_type": "execute_result",
          "data": {
            "text/plain": [
              "<matplotlib.axes._subplots.AxesSubplot at 0x7f6c406b9160>"
            ]
          },
          "metadata": {},
          "execution_count": 12
        },
        {
          "output_type": "display_data",
          "data": {
            "text/plain": [
              "<Figure size 432x288 with 1 Axes>"
            ],
            "image/png": "[encoded data removed]"
          },
          "metadata": {
            "needs_background": "light"
          }
        }
      ],
      "source": [
        "##Write your code here for plotting the distribution of price\n",
        "sns.histplot(data=df['price'], x = df['price'] ,binwidth =100)\n"
      ]
    },
    {
      "cell_type": "markdown",
      "id": "95de8bae",
      "metadata": {
        "id": "95de8bae"
      },
      "source": [
        "**Observation**:**Maximum of AirBnb has price range between 100 to 200 followed by 200 to 300 and 0 to 100. Or we can say that 2600(approx) AirBnb has price range between 100 to 200.**"
      ]
    },
    {
      "cell_type": "code",
      "execution_count": 11,
      "id": "53f9f99c",
      "metadata": {
        "scrolled": true,
        "colab": {
          "base_uri": "https://localhost:8080/",
          "height": 297
        },
        "id": "53f9f99c",
        "outputId": "b15e1e10-1edd-4a28-9870-c0d7a20925bf"
      },
      "outputs": [
        {
          "output_type": "execute_result",
          "data": {
            "text/plain": [
              "<matplotlib.axes._subplots.AxesSubplot at 0x7f6c40729370>"
            ]
          },
          "metadata": {},
          "execution_count": 11
        },
        {
          "output_type": "display_data",
          "data": {
            "text/plain": [
              "<Figure size 432x288 with 1 Axes>"
            ],
            "image/png": "[encoded data removed]"
          },
          "metadata": {
            "needs_background": "light"
          }
        }
      ],
      "source": [
        "##Write your code here for plotting the distribution of reviews\n",
        "sns.histplot(data = df['number_of_reviews'],binwidth = 50)"
      ]
    },
    {
      "cell_type": "markdown",
      "id": "53043d09",
      "metadata": {
        "id": "53043d09"
      },
      "source": [
        "**Observation**:**Approximately 4500  AirBnb has  0 to 50 number of reviews.**"
      ]
    },
    {
      "cell_type": "code",
      "execution_count": null,
      "id": "f1a09e17",
      "metadata": {
        "scrolled": true,
        "colab": {
          "base_uri": "https://localhost:8080/",
          "height": 297
        },
        "id": "f1a09e17",
        "outputId": "863588e4-404f-490e-f301-86b4eab68b34"
      },
      "outputs": [
        {
          "output_type": "execute_result",
          "data": {
            "text/plain": [
              "<matplotlib.axes._subplots.AxesSubplot at 0x7f816b4d6580>"
            ]
          },
          "metadata": {},
          "execution_count": 64
        },
        {
          "output_type": "display_data",
          "data": {
            "text/plain": [
              "<Figure size 432x288 with 1 Axes>"
            ],
            "image/png": "[encoded data removed]"
          },
          "metadata": {
            "needs_background": "light"
          }
        }
      ],
      "source": [
        "##Write your code here for plotting the distribution of ratings\n",
        "sns.histplot(data = df['review_scores_rating'],binwidth = .2)"
      ]
    },
    {
      "cell_type": "markdown",
      "id": "9c8adae5",
      "metadata": {
        "id": "9c8adae5"
      },
      "source": [
        "**Observation**:**Most of the AirBnb has rating (4.8-5.0) followed by rating(4.6-4.8)**"
      ]
    },
    {
      "cell_type": "markdown",
      "id": "5bbd5838",
      "metadata": {
        "id": "5bbd5838"
      },
      "source": [
        "### Task 3\n",
        "\n",
        "Plot a visualization to show the number of listings for each `room_type`\n",
        "\n",
        "Which `room_type` has the highest number of listings?"
      ]
    },
    {
      "cell_type": "code",
      "execution_count": null,
      "id": "1ddc8b6a",
      "metadata": {
        "scrolled": true,
        "colab": {
          "base_uri": "https://localhost:8080/",
          "height": 352
        },
        "id": "1ddc8b6a",
        "outputId": "984aad67-5a65-4f23-bce1-d37722b5b181"
      },
      "outputs": [
        {
          "output_type": "stream",
          "name": "stderr",
          "text": [
            "/usr/local/lib/python3.8/dist-packages/seaborn/_decorators.py:36: FutureWarning: Pass the following variable as a keyword arg: x. From version 0.12, the only valid positional argument will be `data`, and passing other arguments without an explicit keyword will result in an error or misinterpretation.\n",
            "  warnings.warn(\n"
          ]
        },
        {
          "output_type": "execute_result",
          "data": {
            "text/plain": [
              "<matplotlib.axes._subplots.AxesSubplot at 0x7f458bff9790>"
            ]
          },
          "metadata": {},
          "execution_count": 18
        },
        {
          "output_type": "display_data",
          "data": {
            "text/plain": [
              "<Figure size 432x288 with 1 Axes>"
            ],
            "image/png": "[encoded data removed]"
          },
          "metadata": {
            "needs_background": "light"
          }
        }
      ],
      "source": [
        "sns.countplot(df['room_type'])\n",
        "\n"
      ]
    },
    {
      "cell_type": "markdown",
      "id": "f392737e",
      "metadata": {
        "id": "f392737e"
      },
      "source": [
        "**Observation** -**From the above observation we see that most of the room provided by AirBnb were entire room/apt_room which is approximately 4000 in number followed by private room around 1700 and hotel room or shared room provided by AirBnb are less than 100**"
      ]
    },
    {
      "cell_type": "markdown",
      "id": "86849ec7",
      "metadata": {
        "id": "86849ec7"
      },
      "source": [
        "### Task 4\n",
        "\n",
        "You want to observe the relationship between the reviews(given by `number_of_reviews`) and the ratings received (`review_scores_rating`) by different AirBnB listings.\n",
        "\n",
        "For this, plot both a scatterplot and a jointplot. What can you say about the relationship between ratings and reviews?"
      ]
    },
    {
      "cell_type": "code",
      "execution_count": null,
      "id": "a2413ff1",
      "metadata": {
        "colab": {
          "base_uri": "https://localhost:8080/",
          "height": 297
        },
        "id": "a2413ff1",
        "outputId": "778e8b97-48c0-4449-d1f3-11946a72cb3c"
      },
      "outputs": [
        {
          "output_type": "execute_result",
          "data": {
            "text/plain": [
              "<matplotlib.axes._subplots.AxesSubplot at 0x7f8169df6100>"
            ]
          },
          "metadata": {},
          "execution_count": 79
        },
        {
          "output_type": "display_data",
          "data": {
            "text/plain": [
              "<Figure size 432x288 with 1 Axes>"
            ],
            "image/png": "[encoded data removed]"
          },
          "metadata": {
            "needs_background": "light"
          }
        }
      ],
      "source": [
        "##Write your code here for scatterplot\n",
        "sns.scatterplot(data=df, x=\"review_scores_rating\", y=\"number_of_reviews\")"
      ]
    },
    {
      "cell_type": "code",
      "execution_count": null,
      "id": "f41dc6bd",
      "metadata": {
        "scrolled": true,
        "colab": {
          "base_uri": "https://localhost:8080/",
          "height": 458
        },
        "id": "f41dc6bd",
        "outputId": "8dc6f15e-41ab-4c73-d9a3-7b2fb5b8c866"
      },
      "outputs": [
        {
          "output_type": "execute_result",
          "data": {
            "text/plain": [
              "<seaborn.axisgrid.JointGrid at 0x7f8166ebdf40>"
            ]
          },
          "metadata": {},
          "execution_count": 84
        },
        {
          "output_type": "display_data",
          "data": {
            "text/plain": [
              "<Figure size 432x432 with 3 Axes>"
            ],
            "image/png": "[encoded data removed]"
          },
          "metadata": {
            "needs_background": "light"
          }
        }
      ],
      "source": [
        "##Write your code here for jointplot\n",
        "\n",
        "sns.jointplot(data=df, x=\"review_scores_rating\", y=\"number_of_reviews\")"
      ]
    },
    {
      "cell_type": "markdown",
      "id": "304c1839",
      "metadata": {
        "id": "304c1839"
      },
      "source": [
        "**Observation** - **Here from the above chart we can infer that most of the reviews rating lies between 4.0to 5.0 and and we have maximum number of reviews between 0 to 600 and maximum number of reviews between 0-50.**"
      ]
    },
    {
      "cell_type": "markdown",
      "id": "d7a659af",
      "metadata": {
        "id": "d7a659af"
      },
      "source": [
        "### Task 5\n",
        "\n",
        "AirBnB has been adding quite a few listings in the city of Amseterdam since they started operating in 2008. Plot a lineplot to observe how the average `review_scores_rating` has changed across the different years (use `host_since_Year` column) AirBnB has been operating in the city."
      ]
    },
    {
      "cell_type": "code",
      "execution_count": null,
      "id": "c73634ee",
      "metadata": {
        "scrolled": true,
        "colab": {
          "base_uri": "https://localhost:8080/",
          "height": 297
        },
        "id": "c73634ee",
        "outputId": "085d9774-618b-410e-8a11-b9a2fc9d54e1"
      },
      "outputs": [
        {
          "output_type": "execute_result",
          "data": {
            "text/plain": [
              "<matplotlib.axes._subplots.AxesSubplot at 0x7f458c853df0>"
            ]
          },
          "metadata": {},
          "execution_count": 12
        },
        {
          "output_type": "display_data",
          "data": {
            "text/plain": [
              "<Figure size 432x288 with 1 Axes>"
            ],
            "image/png": "[encoded data removed]"
          },
          "metadata": {
            "needs_background": "light"
          }
        }
      ],
      "source": [
        "### Write your code for lineplot here\n",
        "\n",
        "sns.lineplot(data=df, x=\"host_since_Year\", y=\"review_scores_rating\")"
      ]
    },
    {
      "cell_type": "markdown",
      "id": "34c7bb8d",
      "metadata": {
        "id": "34c7bb8d"
      },
      "source": [
        "**Observation** -**Here in the above chart we can see the year wise rating  the rating in the year 2008 is high, in 2009 there is a fall in rating in yaer 2009 from 4.9 to 4.7 and again there is a downtrend in rating since 2016**"
      ]
    },
    {
      "cell_type": "markdown",
      "id": "d863ebe8",
      "metadata": {
        "id": "d863ebe8"
      },
      "source": [
        "### Task 6\n",
        "\n",
        "You wish to identify the relationship between the various ratings each of the listing has received from the customers.\n",
        "These ratings have been summarized below:"
      ]
    },
    {
      "cell_type": "code",
      "execution_count": null,
      "id": "bf1d48b5",
      "metadata": {
        "id": "bf1d48b5"
      },
      "outputs": [],
      "source": [
        "review_columns = ['review_scores_rating',\n",
        " 'review_scores_accuracy',\n",
        " 'review_scores_cleanliness',\n",
        " 'review_scores_checkin',\n",
        " 'review_scores_communication',\n",
        " 'review_scores_location',\n",
        " 'review_scores_value']"
      ]
    },
    {
      "cell_type": "markdown",
      "id": "66038e5f",
      "metadata": {
        "id": "66038e5f"
      },
      "source": [
        "Plot a heatmap of the correlation matrix of the above ratings variables and document your observations. You can use this link to understand these variables further - https://www.airbnb.co.in/help/article/1257/star-ratings"
      ]
    },
    {
      "cell_type": "code",
      "execution_count": null,
      "id": "2969d940",
      "metadata": {
        "id": "2969d940"
      },
      "outputs": [],
      "source": [
        "dfr = df[['review_scores_rating',\n",
        " 'review_scores_accuracy',\n",
        " 'review_scores_cleanliness',\n",
        " 'review_scores_checkin',\n",
        " 'review_scores_communication',\n",
        " 'review_scores_location',\n",
        " 'review_scores_value']].copy()"
      ]
    },
    {
      "cell_type": "code",
      "source": [
        "dfr.corr()"
      ],
      "metadata": {
        "colab": {
          "base_uri": "https://localhost:8080/",
          "height": 333
        },
        "id": "g-Ha7_y_ZBNj",
        "outputId": "8b27054d-e505-49a1-8d39-0cdc0cd7b52e"
      },
      "id": "g-Ha7_y_ZBNj",
      "execution_count": null,
      "outputs": [
        {
          "output_type": "execute_result",
          "data": {
            "text/plain": [
              "                             review_scores_rating  review_scores_accuracy  \\\n",
              "review_scores_rating                     1.000000                0.787414   \n",
              "review_scores_accuracy                   0.787414                1.000000   \n",
              "review_scores_cleanliness                0.679435                0.591741   \n",
              "review_scores_checkin                    0.626049                0.619997   \n",
              "review_scores_communication              0.683362                0.631387   \n",
              "review_scores_location                   0.415640                0.361306   \n",
              "review_scores_value                      0.713829                0.656230   \n",
              "\n",
              "                             review_scores_cleanliness  review_scores_checkin  \\\n",
              "review_scores_rating                          0.679435               0.626049   \n",
              "review_scores_accuracy                        0.591741               0.619997   \n",
              "review_scores_cleanliness                     1.000000               0.474474   \n",
              "review_scores_checkin                         0.474474               1.000000   \n",
              "review_scores_communication                   0.433770               0.699638   \n",
              "review_scores_location                        0.274167               0.328772   \n",
              "review_scores_value                           0.562233               0.530233   \n",
              "\n",
              "                             review_scores_communication  \\\n",
              "review_scores_rating                            0.683362   \n",
              "review_scores_accuracy                          0.631387   \n",
              "review_scores_cleanliness                       0.433770   \n",
              "review_scores_checkin                           0.699638   \n",
              "review_scores_communication                     1.000000   \n",
              "review_scores_location                          0.340043   \n",
              "review_scores_value                             0.511352   \n",
              "\n",
              "                             review_scores_location  review_scores_value  \n",
              "review_scores_rating                       0.415640             0.713829  \n",
              "review_scores_accuracy                     0.361306             0.656230  \n",
              "review_scores_cleanliness                  0.274167             0.562233  \n",
              "review_scores_checkin                      0.328772             0.530233  \n",
              "review_scores_communication                0.340043             0.511352  \n",
              "review_scores_location                     1.000000             0.413902  \n",
              "review_scores_value                        0.413902             1.000000  "
            ],
            "text/html": [
              "\n",
              "  <div id=\"df-01daa3be-9fb3-48ed-a3aa-e386d6a900d1\">\n",
              "    <div class=\"colab-df-container\">\n",
              "      <div>\n",
              "<style scoped>\n",
              "    .dataframe tbody tr th:only-of-type {\n",
              "        vertical-align: middle;\n",
              "    }\n",
              "\n",
              "    .dataframe tbody tr th {\n",
              "        vertical-align: top;\n",
              "    }\n",
              "\n",
              "    .dataframe thead th {\n",
              "        text-align: right;\n",
              "    }\n",
              "</style>\n",
              "<table border=\"1\" class=\"dataframe\">\n",
              "  <thead>\n",
              "    <tr style=\"text-align: right;\">\n",
              "      <th></th>\n",
              "      <th>review_scores_rating</th>\n",
              "      <th>review_scores_accuracy</th>\n",
              "      <th>review_scores_cleanliness</th>\n",
              "      <th>review_scores_checkin</th>\n",
              "      <th>review_scores_communication</th>\n",
              "      <th>review_scores_location</th>\n",
              "      <th>review_scores_value</th>\n",
              "    </tr>\n",
              "  </thead>\n",
              "  <tbody>\n",
              "    <tr>\n",
              "      <th>review_scores_rating</th>\n",
              "      <td>1.000000</td>\n",
              "      <td>0.787414</td>\n",
              "      <td>0.679435</td>\n",
              "      <td>0.626049</td>\n",
              "      <td>0.683362</td>\n",
              "      <td>0.415640</td>\n",
              "      <td>0.713829</td>\n",
              "    </tr>\n",
              "    <tr>\n",
              "      <th>review_scores_accuracy</th>\n",
              "      <td>0.787414</td>\n",
              "      <td>1.000000</td>\n",
              "      <td>0.591741</td>\n",
              "      <td>0.619997</td>\n",
              "      <td>0.631387</td>\n",
              "      <td>0.361306</td>\n",
              "      <td>0.656230</td>\n",
              "    </tr>\n",
              "    <tr>\n",
              "      <th>review_scores_cleanliness</th>\n",
              "      <td>0.679435</td>\n",
              "      <td>0.591741</td>\n",
              "      <td>1.000000</td>\n",
              "      <td>0.474474</td>\n",
              "      <td>0.433770</td>\n",
              "      <td>0.274167</td>\n",
              "      <td>0.562233</td>\n",
              "    </tr>\n",
              "    <tr>\n",
              "      <th>review_scores_checkin</th>\n",
              "      <td>0.626049</td>\n",
              "      <td>0.619997</td>\n",
              "      <td>0.474474</td>\n",
              "      <td>1.000000</td>\n",
              "      <td>0.699638</td>\n",
              "      <td>0.328772</td>\n",
              "      <td>0.530233</td>\n",
              "    </tr>\n",
              "    <tr>\n",
              "      <th>review_scores_communication</th>\n",
              "      <td>0.683362</td>\n",
              "      <td>0.631387</td>\n",
              "      <td>0.433770</td>\n",
              "      <td>0.699638</td>\n",
              "      <td>1.000000</td>\n",
              "      <td>0.340043</td>\n",
              "      <td>0.511352</td>\n",
              "    </tr>\n",
              "    <tr>\n",
              "      <th>review_scores_location</th>\n",
              "      <td>0.415640</td>\n",
              "      <td>0.361306</td>\n",
              "      <td>0.274167</td>\n",
              "      <td>0.328772</td>\n",
              "      <td>0.340043</td>\n",
              "      <td>1.000000</td>\n",
              "      <td>0.413902</td>\n",
              "    </tr>\n",
              "    <tr>\n",
              "      <th>review_scores_value</th>\n",
              "      <td>0.713829</td>\n",
              "      <td>0.656230</td>\n",
              "      <td>0.562233</td>\n",
              "      <td>0.530233</td>\n",
              "      <td>0.511352</td>\n",
              "      <td>0.413902</td>\n",
              "      <td>1.000000</td>\n",
              "    </tr>\n",
              "  </tbody>\n",
              "</table>\n",
              "</div>\n",
              "      <button class=\"colab-df-convert\" onclick=\"convertToInteractive('df-01daa3be-9fb3-48ed-a3aa-e386d6a900d1')\"\n",
              "              title=\"Convert this dataframe to an interactive table.\"\n",
              "              style=\"display:none;\">\n",
              "        \n",
              "  <svg xmlns=\"http://www.w3.org/2000/svg\" height=\"24px\"viewBox=\"0 0 24 24\"\n",
              "       width=\"24px\">\n",
              "    <path d=\"M0 0h24v24H0V0z\" fill=\"none\"/>\n",
              "    <path d=\"M18.56 5.44l.94 2.06.94-2.06 2.06-.94-2.06-.94-.94-2.06-.94 2.06-2.06.94zm-11 1L8.5 8.5l.94-2.06 2.06-.94-2.06-.94L8.5 2.5l-.94 2.06-2.06.94zm10 10l.94 2.06.94-2.06 2.06-.94-2.06-.94-.94-2.06-.94 2.06-2.06.94z\"/><path d=\"M17.41 7.96l-1.37-1.37c-.4-.4-.92-.59-1.43-.59-.52 0-1.04.2-1.43.59L10.3 9.45l-7.72 7.72c-.78.78-.78 2.05 0 2.83L4 21.41c.39.39.9.59 1.41.59.51 0 1.02-.2 1.41-.59l7.78-7.78 2.81-2.81c.8-.78.8-2.07 0-2.86zM5.41 20L4 18.59l7.72-7.72 1.47 1.35L5.41 20z\"/>\n",
              "  </svg>\n",
              "      </button>\n",
              "      \n",
              "  <style>\n",
              "    .colab-df-container {\n",
              "      display:flex;\n",
              "      flex-wrap:wrap;\n",
              "      gap: 12px;\n",
              "    }\n",
              "\n",
              "    .colab-df-convert {\n",
              "      background-color: #E8F0FE;\n",
              "      border: none;\n",
              "      border-radius: 50%;\n",
              "      cursor: pointer;\n",
              "      display: none;\n",
              "      fill: #1967D2;\n",
              "      height: 32px;\n",
              "      padding: 0 0 0 0;\n",
              "      width: 32px;\n",
              "    }\n",
              "\n",
              "    .colab-df-convert:hover {\n",
              "      background-color: #E2EBFA;\n",
              "      box-shadow: 0px 1px 2px rgba(60, 64, 67, 0.3), 0px 1px 3px 1px rgba(60, 64, 67, 0.15);\n",
              "      fill: #174EA6;\n",
              "    }\n",
              "\n",
              "    [theme=dark] .colab-df-convert {\n",
              "      background-color: #3B4455;\n",
              "      fill: #D2E3FC;\n",
              "    }\n",
              "\n",
              "    [theme=dark] .colab-df-convert:hover {\n",
              "      background-color: #434B5C;\n",
              "      box-shadow: 0px 1px 3px 1px rgba(0, 0, 0, 0.15);\n",
              "      filter: drop-shadow(0px 1px 2px rgba(0, 0, 0, 0.3));\n",
              "      fill: #FFFFFF;\n",
              "    }\n",
              "  </style>\n",
              "\n",
              "      <script>\n",
              "        const buttonEl =\n",
              "          document.querySelector('#df-01daa3be-9fb3-48ed-a3aa-e386d6a900d1 button.colab-df-convert');\n",
              "        buttonEl.style.display =\n",
              "          google.colab.kernel.accessAllowed ? 'block' : 'none';\n",
              "\n",
              "        async function convertToInteractive(key) {\n",
              "          const element = document.querySelector('#df-01daa3be-9fb3-48ed-a3aa-e386d6a900d1');\n",
              "          const dataTable =\n",
              "            await google.colab.kernel.invokeFunction('convertToInteractive',\n",
              "                                                     [key], {});\n",
              "          if (!dataTable) return;\n",
              "\n",
              "          const docLinkHtml = 'Like what you see? Visit the ' +\n",
              "            '<a target=\"_blank\" href=https://colab.research.google.com/notebooks/data_table.ipynb>data table notebook</a>'\n",
              "            + ' to learn more about interactive tables.';\n",
              "          element.innerHTML = '';\n",
              "          dataTable['output_type'] = 'display_data';\n",
              "          await google.colab.output.renderOutput(dataTable, element);\n",
              "          const docLink = document.createElement('div');\n",
              "          docLink.innerHTML = docLinkHtml;\n",
              "          element.appendChild(docLink);\n",
              "        }\n",
              "      </script>\n",
              "    </div>\n",
              "  </div>\n",
              "  "
            ]
          },
          "metadata": {},
          "execution_count": 25
        }
      ]
    },
    {
      "cell_type": "code",
      "source": [
        " sns.heatmap(dfr.corr(), cmap=\"YlGnBu\", annot=True)"
      ],
      "metadata": {
        "colab": {
          "base_uri": "https://localhost:8080/",
          "height": 428
        },
        "id": "k3tNbV9pZHxy",
        "outputId": "6fe7373c-ec33-4116-ee65-03fb226a2603"
      },
      "id": "k3tNbV9pZHxy",
      "execution_count": null,
      "outputs": [
        {
          "output_type": "execute_result",
          "data": {
            "text/plain": [
              "<matplotlib.axes._subplots.AxesSubplot at 0x7f458bc99340>"
            ]
          },
          "metadata": {},
          "execution_count": 26
        },
        {
          "output_type": "display_data",
          "data": {
            "text/plain": [
              "<Figure size 432x288 with 2 Axes>"
            ],
            "image/png": "[encoded data removed]"
          },
          "metadata": {
            "needs_background": "light"
          }
        }
      ]
    },
    {
      "cell_type": "markdown",
      "id": "dfc62db7",
      "metadata": {
        "id": "dfc62db7"
      },
      "source": [
        "**Observation** -**from the above observations we see that the one whic his dark blue in colour is highly correalted to each other and colour less in blue means less correlation ,here review_scores_accuracy,review_score-rating has higher correlation**"
      ]
    },
    {
      "cell_type": "markdown",
      "id": "c5f9eb74",
      "metadata": {
        "id": "c5f9eb74"
      },
      "source": [
        "### Task 7 "
      ]
    },
    {
      "cell_type": "markdown",
      "id": "1c928252",
      "metadata": {
        "id": "1c928252"
      },
      "source": [
        "Analyze the listings' prices across the following neighborhoods using a categorical boxplot\n",
        "- 'Westerpark', 'Oud-Noord', 'Noord-West','Zuid'"
      ]
    },
    {
      "cell_type": "code",
      "execution_count": null,
      "id": "9fa8f608",
      "metadata": {
        "id": "9fa8f608"
      },
      "outputs": [],
      "source": [
        "nc = ['Westerpark', 'Oud-Noord', 'Noord-West','Zuid']"
      ]
    },
    {
      "cell_type": "code",
      "execution_count": null,
      "id": "01190c19",
      "metadata": {
        "id": "01190c19"
      },
      "outputs": [],
      "source": [
        "### Write your code for subsetting the data for only the above neighborhoods here\n",
        "dfl= df[df['neighbourhood'].isin(['Westerpark', 'Oud-Noord', 'Noord-West','Zuid'])]"
      ]
    },
    {
      "cell_type": "code",
      "execution_count": null,
      "id": "41e4494d",
      "metadata": {
        "id": "41e4494d"
      },
      "outputs": [],
      "source": [
        "### Write your code for plotting the categorical boxplot here\n",
        "\n",
        "dfv = dfl['neighbourhood'].value_counts()\n"
      ]
    },
    {
      "cell_type": "code",
      "source": [
        "dfv = dfv.rename_axis('neighbourhood')\n",
        "dfr= dfv.reset_index(name = 'total')"
      ],
      "metadata": {
        "id": "YKYg96P3i0qd"
      },
      "id": "YKYg96P3i0qd",
      "execution_count": null,
      "outputs": []
    },
    {
      "cell_type": "code",
      "source": [
        "dfr\n"
      ],
      "metadata": {
        "colab": {
          "base_uri": "https://localhost:8080/",
          "height": 174
        },
        "id": "i5EZGAKBlp1g",
        "outputId": "e000ed5d-0609-414a-e9c2-2c1fbddf2902"
      },
      "id": "i5EZGAKBlp1g",
      "execution_count": null,
      "outputs": [
        {
          "output_type": "execute_result",
          "data": {
            "text/plain": [
              "  neighbourhood  total\n",
              "0    Westerpark    417\n",
              "1          Zuid    376\n",
              "2     Oud-Noord    254\n",
              "3    Noord-West    169"
            ],
            "text/html": [
              "\n",
              "  <div id=\"df-4cddaf36-e72a-4533-be54-174a7b8191e4\">\n",
              "    <div class=\"colab-df-container\">\n",
              "      <div>\n",
              "<style scoped>\n",
              "    .dataframe tbody tr th:only-of-type {\n",
              "        vertical-align: middle;\n",
              "    }\n",
              "\n",
              "    .dataframe tbody tr th {\n",
              "        vertical-align: top;\n",
              "    }\n",
              "\n",
              "    .dataframe thead th {\n",
              "        text-align: right;\n",
              "    }\n",
              "</style>\n",
              "<table border=\"1\" class=\"dataframe\">\n",
              "  <thead>\n",
              "    <tr style=\"text-align: right;\">\n",
              "      <th></th>\n",
              "      <th>neighbourhood</th>\n",
              "      <th>total</th>\n",
              "    </tr>\n",
              "  </thead>\n",
              "  <tbody>\n",
              "    <tr>\n",
              "      <th>0</th>\n",
              "      <td>Westerpark</td>\n",
              "      <td>417</td>\n",
              "    </tr>\n",
              "    <tr>\n",
              "      <th>1</th>\n",
              "      <td>Zuid</td>\n",
              "      <td>376</td>\n",
              "    </tr>\n",
              "    <tr>\n",
              "      <th>2</th>\n",
              "      <td>Oud-Noord</td>\n",
              "      <td>254</td>\n",
              "    </tr>\n",
              "    <tr>\n",
              "      <th>3</th>\n",
              "      <td>Noord-West</td>\n",
              "      <td>169</td>\n",
              "    </tr>\n",
              "  </tbody>\n",
              "</table>\n",
              "</div>\n",
              "      <button class=\"colab-df-convert\" onclick=\"convertToInteractive('df-4cddaf36-e72a-4533-be54-174a7b8191e4')\"\n",
              "              title=\"Convert this dataframe to an interactive table.\"\n",
              "              style=\"display:none;\">\n",
              "        \n",
              "  <svg xmlns=\"http://www.w3.org/2000/svg\" height=\"24px\"viewBox=\"0 0 24 24\"\n",
              "       width=\"24px\">\n",
              "    <path d=\"M0 0h24v24H0V0z\" fill=\"none\"/>\n",
              "    <path d=\"M18.56 5.44l.94 2.06.94-2.06 2.06-.94-2.06-.94-.94-2.06-.94 2.06-2.06.94zm-11 1L8.5 8.5l.94-2.06 2.06-.94-2.06-.94L8.5 2.5l-.94 2.06-2.06.94zm10 10l.94 2.06.94-2.06 2.06-.94-2.06-.94-.94-2.06-.94 2.06-2.06.94z\"/><path d=\"M17.41 7.96l-1.37-1.37c-.4-.4-.92-.59-1.43-.59-.52 0-1.04.2-1.43.59L10.3 9.45l-7.72 7.72c-.78.78-.78 2.05 0 2.83L4 21.41c.39.39.9.59 1.41.59.51 0 1.02-.2 1.41-.59l7.78-7.78 2.81-2.81c.8-.78.8-2.07 0-2.86zM5.41 20L4 18.59l7.72-7.72 1.47 1.35L5.41 20z\"/>\n",
              "  </svg>\n",
              "      </button>\n",
              "      \n",
              "  <style>\n",
              "    .colab-df-container {\n",
              "      display:flex;\n",
              "      flex-wrap:wrap;\n",
              "      gap: 12px;\n",
              "    }\n",
              "\n",
              "    .colab-df-convert {\n",
              "      background-color: #E8F0FE;\n",
              "      border: none;\n",
              "      border-radius: 50%;\n",
              "      cursor: pointer;\n",
              "      display: none;\n",
              "      fill: #1967D2;\n",
              "      height: 32px;\n",
              "      padding: 0 0 0 0;\n",
              "      width: 32px;\n",
              "    }\n",
              "\n",
              "    .colab-df-convert:hover {\n",
              "      background-color: #E2EBFA;\n",
              "      box-shadow: 0px 1px 2px rgba(60, 64, 67, 0.3), 0px 1px 3px 1px rgba(60, 64, 67, 0.15);\n",
              "      fill: #174EA6;\n",
              "    }\n",
              "\n",
              "    [theme=dark] .colab-df-convert {\n",
              "      background-color: #3B4455;\n",
              "      fill: #D2E3FC;\n",
              "    }\n",
              "\n",
              "    [theme=dark] .colab-df-convert:hover {\n",
              "      background-color: #434B5C;\n",
              "      box-shadow: 0px 1px 3px 1px rgba(0, 0, 0, 0.15);\n",
              "      filter: drop-shadow(0px 1px 2px rgba(0, 0, 0, 0.3));\n",
              "      fill: #FFFFFF;\n",
              "    }\n",
              "  </style>\n",
              "\n",
              "      <script>\n",
              "        const buttonEl =\n",
              "          document.querySelector('#df-4cddaf36-e72a-4533-be54-174a7b8191e4 button.colab-df-convert');\n",
              "        buttonEl.style.display =\n",
              "          google.colab.kernel.accessAllowed ? 'block' : 'none';\n",
              "\n",
              "        async function convertToInteractive(key) {\n",
              "          const element = document.querySelector('#df-4cddaf36-e72a-4533-be54-174a7b8191e4');\n",
              "          const dataTable =\n",
              "            await google.colab.kernel.invokeFunction('convertToInteractive',\n",
              "                                                     [key], {});\n",
              "          if (!dataTable) return;\n",
              "\n",
              "          const docLinkHtml = 'Like what you see? Visit the ' +\n",
              "            '<a target=\"_blank\" href=https://colab.research.google.com/notebooks/data_table.ipynb>data table notebook</a>'\n",
              "            + ' to learn more about interactive tables.';\n",
              "          element.innerHTML = '';\n",
              "          dataTable['output_type'] = 'display_data';\n",
              "          await google.colab.output.renderOutput(dataTable, element);\n",
              "          const docLink = document.createElement('div');\n",
              "          docLink.innerHTML = docLinkHtml;\n",
              "          element.appendChild(docLink);\n",
              "        }\n",
              "      </script>\n",
              "    </div>\n",
              "  </div>\n",
              "  "
            ]
          },
          "metadata": {},
          "execution_count": 65
        }
      ]
    },
    {
      "cell_type": "code",
      "source": [
        "dfr.boxplot(grid = False)"
      ],
      "metadata": {
        "colab": {
          "base_uri": "https://localhost:8080/",
          "height": 282
        },
        "id": "507O6jSCmDIF",
        "outputId": "18216cee-d372-40aa-d778-0e116bdd8a9f"
      },
      "id": "507O6jSCmDIF",
      "execution_count": null,
      "outputs": [
        {
          "output_type": "execute_result",
          "data": {
            "text/plain": [
              "<matplotlib.axes._subplots.AxesSubplot at 0x7f45849be670>"
            ]
          },
          "metadata": {},
          "execution_count": 74
        },
        {
          "output_type": "display_data",
          "data": {
            "text/plain": [
              "<Figure size 432x288 with 1 Axes>"
            ],
            "image/png": "[encoded data removed]"
          },
          "metadata": {
            "needs_background": "light"
          }
        }
      ]
    },
    {
      "cell_type": "markdown",
      "id": "07548c45",
      "metadata": {
        "id": "07548c45"
      },
      "source": [
        "**Observation** - "
      ]
    },
    {
      "cell_type": "code",
      "execution_count": null,
      "id": "a710ef10",
      "metadata": {
        "id": "a710ef10"
      },
      "outputs": [],
      "source": []
    }
  ],
  "metadata": {
    "kernelspec": {
      "display_name": "Python 3 (ipykernel)",
      "language": "python",
      "name": "python3"
    },
    "language_info": {
      "codemirror_mode": {
        "name": "ipython",
        "version": 3
      },
      "file_extension": ".py",
      "mimetype": "text/x-python",
      "name": "python",
      "nbconvert_exporter": "python",
      "pygments_lexer": "ipython3",
      "version": "3.9.7"
    },
    "colab": {
      "provenance": [],
      "include_colab_link": true
    }
  },
  "nbformat": 4,
  "nbformat_minor": 5
}